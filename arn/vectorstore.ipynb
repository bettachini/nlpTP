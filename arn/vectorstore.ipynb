{
 "cells": [
  {
   "cell_type": "markdown",
   "metadata": {
    "id": "CPnLwkvBXcS5"
   },
   "source": [
    "# Generar vectorstore con toda la normativa ARN"
   ]
  },
  {
   "cell_type": "code",
   "execution_count": 1,
   "metadata": {
    "colab": {
     "base_uri": "https://localhost:8080/"
    },
    "id": "y85T2W9pXcS9",
    "outputId": "2df380bc-f0b2-4741-d6a6-673070244984"
   },
   "outputs": [
    {
     "name": "stdout",
     "output_type": "stream",
     "text": [
      "google\n"
     ]
    }
   ],
   "source": [
    "# Determina entorno de ejecución: local o Colab\n",
    "\n",
    "# if (firstrun):\n",
    "if('google.colab' in str(get_ipython() ) ):\n",
    "    environment= 'google'\n",
    "else:\n",
    "    import os\n",
    "    if (os.environ.get('PWD')=='/kaggle/working'):\n",
    "        environment= 'kaggle'\n",
    "    else:\n",
    "        environment= 'local'\n",
    "print(environment)"
   ]
  },
  {
   "cell_type": "code",
   "execution_count": 2,
   "metadata": {
    "colab": {
     "base_uri": "https://localhost:8080/"
    },
    "id": "TWjnU6e0XcTA",
    "outputId": "a4f219fe-9d5f-48d6-a221-fea077d6b272"
   },
   "outputs": [
    {
     "name": "stdout",
     "output_type": "stream",
     "text": [
      "--2024-11-23 18:52:47--  https://github.com/bettachini/nlpTP/blob/main/arn/gu%C3%ADas_texto.zip?raw=true\n",
      "Resolving github.com (github.com)... 20.205.243.166\n",
      "Connecting to github.com (github.com)|20.205.243.166|:443... connected.\n",
      "HTTP request sent, awaiting response... 302 Found\n",
      "Location: https://github.com/bettachini/nlpTP/raw/refs/heads/main/arn/gu%C3%ADas_texto.zip [following]\n",
      "--2024-11-23 18:52:48--  https://github.com/bettachini/nlpTP/raw/refs/heads/main/arn/gu%C3%ADas_texto.zip\n",
      "Reusing existing connection to github.com:443.\n",
      "HTTP request sent, awaiting response... 302 Found\n",
      "Location: https://raw.githubusercontent.com/bettachini/nlpTP/refs/heads/main/arn/gu%C3%ADas_texto.zip [following]\n",
      "--2024-11-23 18:52:48--  https://raw.githubusercontent.com/bettachini/nlpTP/refs/heads/main/arn/gu%C3%ADas_texto.zip\n",
      "Resolving raw.githubusercontent.com (raw.githubusercontent.com)... 185.199.109.133, 185.199.108.133, 185.199.111.133, ...\n",
      "Connecting to raw.githubusercontent.com (raw.githubusercontent.com)|185.199.109.133|:443... connected.\n",
      "HTTP request sent, awaiting response... 200 OK\n",
      "Length: 158864 (155K) [application/zip]\n",
      "Saving to: ‘guías_texto.zip’\n",
      "\n",
      "guías_texto.zip     100%[===================>] 155.14K  --.-KB/s    in 0.003s  \n",
      "\n",
      "2024-11-23 18:52:48 (43.9 MB/s) - ‘guías_texto.zip’ saved [158864/158864]\n",
      "\n",
      "Archive:  guías_texto.zip\n",
      "   creating: guías_texto/\n",
      "  inflating: guías_texto/gr13-r0_0.txt  \n",
      "  inflating: guías_texto/gr5-r1_0.txt  \n",
      "  inflating: guías_texto/gr4-r0_0.txt  \n",
      "  inflating: guías_texto/gr6-r1_0.txt  \n",
      "  inflating: guías_texto/gr7-r0_0.txt  \n",
      "  inflating: guías_texto/gr14-r0_0.txt  \n",
      "  inflating: guías_texto/gr8_r01.txt  \n",
      "  inflating: guías_texto/gr10-r0_0.txt  \n",
      "  inflating: guías_texto/gr3-r0_0.txt  \n",
      "  inflating: guías_texto/gr1-r2.txt  \n",
      "--2024-11-23 18:52:49--  https://github.com/bettachini/nlpTP/blob/main/arn/normas_texto.zip?raw=true\n",
      "Resolving github.com (github.com)... 20.205.243.166\n",
      "Connecting to github.com (github.com)|20.205.243.166|:443... connected.\n",
      "HTTP request sent, awaiting response... 302 Found\n",
      "Location: https://github.com/bettachini/nlpTP/raw/refs/heads/main/arn/normas_texto.zip [following]\n",
      "--2024-11-23 18:52:49--  https://github.com/bettachini/nlpTP/raw/refs/heads/main/arn/normas_texto.zip\n",
      "Reusing existing connection to github.com:443.\n",
      "HTTP request sent, awaiting response... 302 Found\n",
      "Location: https://raw.githubusercontent.com/bettachini/nlpTP/refs/heads/main/arn/normas_texto.zip [following]\n",
      "--2024-11-23 18:52:49--  https://raw.githubusercontent.com/bettachini/nlpTP/refs/heads/main/arn/normas_texto.zip\n",
      "Resolving raw.githubusercontent.com (raw.githubusercontent.com)... 185.199.110.133, 185.199.111.133, 185.199.109.133, ...\n",
      "Connecting to raw.githubusercontent.com (raw.githubusercontent.com)|185.199.110.133|:443... connected.\n",
      "HTTP request sent, awaiting response... 200 OK\n",
      "Length: 364048 (356K) [application/zip]\n",
      "Saving to: ‘normas_texto.zip’\n",
      "\n",
      "normas_texto.zip    100%[===================>] 355.52K  --.-KB/s    in 0.004s  \n",
      "\n",
      "2024-11-23 18:52:50 (79.5 MB/s) - ‘normas_texto.zip’ saved [364048/364048]\n",
      "\n",
      "Archive:  normas_texto.zip\n",
      "   creating: normas_texto/\n",
      "  inflating: normas_texto/3-4-3_r1.txt  \n",
      "  inflating: normas_texto/4-1-3_r2.txt  \n",
      "  inflating: normas_texto/3-4-1_r1.txt  \n",
      "  inflating: normas_texto/4-9-1_r1.txt  \n",
      "  inflating: normas_texto/4-8-1_r1.txt  \n",
      "  inflating: normas_texto/3-2-1_r2.txt  \n",
      "  inflating: normas_texto/3-5-1_r1.txt  \n",
      "  inflating: normas_texto/4-2-1_r1.txt  \n",
      "  inflating: normas_texto/10-13-2_r0.txt  \n",
      "  inflating: normas_texto/6-7-1_r1.txt  \n",
      "  inflating: normas_texto/8-11-1_r2.txt  \n",
      "  inflating: normas_texto/7-11-1_r4_actualizada_punto_12b_2022.txt  \n",
      "  inflating: normas_texto/3-2-3_r2_0.txt  \n",
      "  inflating: normas_texto/8-2-3_r3.txt  \n",
      "  inflating: normas_texto/3-3-2_r2.txt  \n",
      "  inflating: normas_texto/5-7-1_r1.txt  \n",
      "  inflating: normas_texto/4-9-2_r2_0.txt  \n",
      "  inflating: normas_texto/3-3-3_r1.txt  \n",
      "  inflating: normas_texto/8-2-4_r1.txt  \n",
      "  inflating: normas_texto/3-3-1_r2.txt  \n",
      "  inflating: normas_texto/0-0-1_r2.txt  \n",
      "  inflating: normas_texto/8-11-3_r0.txt  \n",
      "  inflating: normas_texto/10-10-1_r0.txt  \n",
      "  inflating: normas_texto/7-11-2_r0.txt  \n",
      "  inflating: normas_texto/5-1-1_r1.txt  \n",
      "  inflating: normas_texto/0-11-1_r3.txt  \n",
      "  inflating: normas_texto/3-1-1_r2.txt  \n",
      "  inflating: normas_texto/8-11-2_r0.txt  \n",
      "  inflating: normas_texto/3-10-1_r1.txt  \n",
      "  inflating: normas_texto/4-2-3_r2.txt  \n",
      "  inflating: normas_texto/3-7-1_r1.txt  \n",
      "  inflating: normas_texto/8-2-1_r0.txt  \n",
      "  inflating: normas_texto/10-1-1_r4.txt  \n",
      "  inflating: normas_texto/3-1-3_r2.txt  \n",
      "  inflating: normas_texto/6-1-2_r1.txt  \n",
      "  inflating: normas_texto/8-2-2_r1.txt  \n",
      "  inflating: normas_texto/3-6-1_r2.txt  \n",
      "  inflating: normas_texto/4-8-2_r1.txt  \n",
      "  inflating: normas_texto/4-7-1_r1.txt  \n",
      "  inflating: normas_texto/10-16-1_r03.txt  \n",
      "  inflating: normas_texto/3-9-2_r1.txt  \n",
      "  inflating: normas_texto/7-9-2_r0.txt  \n",
      "  inflating: normas_texto/3-4-2_r1.txt  \n",
      "  inflating: normas_texto/4-1-1_r0.txt  \n",
      "  inflating: normas_texto/10-13-1_r1.txt  \n",
      "  inflating: normas_texto/6-1-1_r1.txt  \n",
      "  inflating: normas_texto/10-14-1_r0.txt  \n",
      "  inflating: normas_texto/4-1-2_r1.txt  \n",
      "  inflating: normas_texto/2-12-1_r0.txt  \n",
      "  inflating: normas_texto/6-2-1_r2.txt  \n",
      "  inflating: normas_texto/0-11-2_r2.txt  \n",
      "  inflating: normas_texto/0-11-4_r0.txt  \n",
      "  inflating: normas_texto/10-12-1r3_.txt  \n",
      "  inflating: normas_texto/4-2-2_r1.txt  \n",
      "  inflating: normas_texto/3-8-1_r1.txt  \n",
      "  inflating: normas_texto/10-6-1_r0.txt  \n",
      "  inflating: normas_texto/6-9-1_r2.txt  \n",
      "  inflating: normas_texto/3-9-1_r1.txt  \n",
      "  inflating: normas_texto/0-11-3_r1.txt  \n",
      "  inflating: normas_texto/3-3-4_r1.txt  \n",
      "  inflating: normas_texto/4-5-1_r1.txt  \n",
      "  inflating: normas_texto/3-17-1_r2.txt  \n",
      "  inflating: normas_texto/7-9-1_r3_2021.txt  \n",
      "  inflating: normas_texto/4-7-2_r0.txt  \n",
      "  inflating: normas_texto/3-1-2_r2.txt  \n"
     ]
    }
   ],
   "source": [
    "# Descarga de texto normas\n",
    "if (environment=='google'):\n",
    "  ! wget https://github.com/bettachini/nlpTP/blob/main/arn/gu%C3%ADas_texto.zip?raw=true -O guías_texto.zip\n",
    "  ! unzip guías_texto.zip\n",
    "  ! rm guías_texto.zip\n",
    "\n",
    "  ! wget https://github.com/bettachini/nlpTP/blob/main/arn/normas_texto.zip?raw=true -O normas_texto.zip\n",
    "  ! unzip normas_texto.zip\n",
    "  ! rm normas_texto.zip"
   ]
  },
  {
   "cell_type": "markdown",
   "metadata": {
    "id": "WvzoBfzqXcTC"
   },
   "source": [
    "## 1. Load Text Files from Directory and Extract Document Identifier"
   ]
  },
  {
   "cell_type": "markdown",
   "metadata": {
    "id": "p5u4AnlHXcTC"
   },
   "source": [
    "To read multiple text files from a directory, load only the base names (ignoring any extra suffix), and assign them as document numbers."
   ]
  },
  {
   "cell_type": "code",
   "execution_count": 1,
   "metadata": {
    "colab": {
     "base_uri": "https://localhost:8080/"
    },
    "id": "r2mQ47uyXcTD",
    "outputId": "56296fbf-266e-4219-a73f-09cf9ed914ba"
   },
   "outputs": [],
   "source": [
    "import os\n",
    "try:\n",
    "  from langchain_community.document_loaders import TextLoader\n",
    "  from langchain.schema import Document  # Assuming this is the document class for LangChain\n",
    "except ImportError:\n",
    "  ! pip install langchain-community\n",
    "  from langchain_community.document_loaders import TextLoader\n",
    "  from langchain.schema import Document  # Assuming this is the document class for LangChain\n"
   ]
  },
  {
   "cell_type": "code",
   "execution_count": 12,
   "metadata": {
    "colab": {
     "base_uri": "https://localhost:8080/"
    },
    "id": "nBd4QLw2XcTE",
    "outputId": "11f8b87d-27ef-4740-c913-e65171777736"
   },
   "outputs": [
    {
     "name": "stderr",
     "output_type": "stream",
     "text": [
      "[nltk_data] Downloading package punkt to\n",
      "[nltk_data]     /home/vbettachini/nltk_data...\n",
      "[nltk_data]   Package punkt is already up-to-date!\n",
      "[nltk_data] Downloading package stopwords to\n",
      "[nltk_data]     /home/vbettachini/nltk_data...\n",
      "[nltk_data]   Package stopwords is already up-to-date!\n",
      "[nltk_data] Downloading package wordnet to\n",
      "[nltk_data]     /home/vbettachini/nltk_data...\n",
      "[nltk_data]   Package wordnet is already up-to-date!\n",
      "[nltk_data] Downloading package omw-1.4 to\n",
      "[nltk_data]     /home/vbettachini/nltk_data...\n",
      "[nltk_data]   Package omw-1.4 is already up-to-date!\n"
     ]
    }
   ],
   "source": [
    "import re\n",
    "\n",
    "import nltk\n",
    "nltk.download('punkt')\n",
    "nltk.download('stopwords')\n",
    "from nltk.corpus import stopwords\n",
    "\n",
    "from nltk.stem import WordNetLemmatizer\n",
    "nltk.download('wordnet')\n",
    "nltk.download('omw-1.4')\n",
    "\n",
    "from nltk.stem import SnowballStemmer\n",
    "ss = SnowballStemmer(\"spanish\")\n",
    "\n",
    "def tildesDiacríticas(texto):\n",
    "    texto = re.sub(\"ñ\",\"n\",texto)\n",
    "    texto = re.sub(\"Ñ\",\"N\",texto)\n",
    "    texto = re.sub(\"á\",\"a\",texto)\n",
    "    texto = re.sub(\"é\",\"e\",texto)\n",
    "    texto = re.sub(\"í\",\"i\",texto)\n",
    "    texto = re.sub(\"ó\",\"o\",texto)\n",
    "    texto = re.sub(\"ú\",\"u\",texto)\n",
    "    texto = re.sub(\"Á\",\"A\",texto)\n",
    "    texto = re.sub(\"É\",\"E\",texto)\n",
    "    texto = re.sub(\"Í\",\"I\",texto)\n",
    "    texto = re.sub(\"Ó\",\"O\",texto)\n",
    "    return re.sub(\"Ú\",\"U\",texto)\n",
    "\n",
    "# Example text preprocessing function\n",
    "def preprocess_text(text):\n",
    "    # tildes y diacríticas\n",
    "    text = tildesDiacríticas(text)\n",
    "\n",
    "    # Remove non-alphanumeric characters (except spaces)\n",
    "    text = re.sub(r'[^A-Za-z0-9\\s]', '', text)\n",
    "\n",
    "    # Convert to lowercase\n",
    "    text = text.lower()\n",
    "\n",
    "    # Tokenization (in this case, just splitting by space, but you could use a tokenizer)\n",
    "    words = text.split()\n",
    "\n",
    "    # Remove stopwords\n",
    "    stop_words = set(stopwords.words('spanish'))\n",
    "    words = [word for word in words if word not in stop_words]\n",
    "\n",
    "    # # Stemming (demasiado violento)\n",
    "    # words = [ss.stem(word) for word in words]\n",
    "\n",
    "    # Lemmatization\n",
    "    lemmatizer = WordNetLemmatizer()\n",
    "    words = [lemmatizer.lemmatize(word) for word in words]\n",
    "\n",
    "    # Join words back into a single string\n",
    "    return ' '.join(words)\n"
   ]
  },
  {
   "cell_type": "code",
   "execution_count": 13,
   "metadata": {
    "id": "xOA-AAb7XcTF"
   },
   "outputs": [],
   "source": [
    "# Normas\n",
    "\n",
    "def text_loader_normas(directory_path, documents_list):\n",
    "  for filename in os.listdir(directory_path):\n",
    "    if filename.endswith('.txt'):\n",
    "      # Extract the document number from the filename (e.g., 'a-b-c' from 'a-b-c_extra.txt')\n",
    "      doc_number = 'AR ' + '.'.join(filename.split('_')[0].split('-'))\n",
    "\n",
    "      # Load the file's content\n",
    "      loader = TextLoader(os.path.join(directory_path, filename))\n",
    "      doc_content = loader.load()\n",
    "\n",
    "      # Preprocess the text\n",
    "      doc_content[0].page_content = preprocess_text(doc_content[0].page_content)\n",
    "\n",
    "      # Append document with metadata for vector store\n",
    "      for page in doc_content:\n",
    "        documents_list.append(Document(page_content=page.page_content, metadata={\"doc_number\": doc_number}))\n",
    "\n",
    "      #documents_list.append({\n",
    "      #  \"content\": doc_content[0].page_content,\n",
    "      #  \"metadata\": {\"doc_number\": doc_number}\n",
    "      #})\n",
    "  return documents_list\n",
    "\n",
    "# Define the directory containing your text files\n",
    "normas_path = './normas_texto'  # Replace with your directory path\n",
    "normas_lista = []\n",
    "normas_lista = text_loader_normas(normas_path, normas_lista)"
   ]
  },
  {
   "cell_type": "code",
   "execution_count": 14,
   "metadata": {
    "id": "RFEOhPj8XcTN"
   },
   "outputs": [],
   "source": [
    "# Guías\n",
    "\n",
    "def text_loader_guías(directory_path, documents_list):\n",
    "  for filename in os.listdir(directory_path):\n",
    "    if filename.endswith('.txt'):\n",
    "      # Extract the document number from the filename (e.g., 'a-b-c' from 'a-b-c_extra.txt')\n",
    "      # doc_number = 'AR Guía' + '.'.join(filename.split('_')[0].split('-'))\n",
    "      doc_number = 'Guía AR ' + filename.split('_')[0].split('-')[0][2:]\n",
    "\n",
    "      # Load the file's content\n",
    "      loader = TextLoader(os.path.join(directory_path, filename))\n",
    "      doc_content = loader.load()\n",
    "\n",
    "      # Preprocess the text\n",
    "      doc_content[0].page_content = preprocess_text(doc_content[0].page_content)\n",
    "\n",
    "      # Append document with metadata for vector store\n",
    "      for page in doc_content:\n",
    "        documents_list.append(Document(page_content=page.page_content, metadata={\"doc_number\": doc_number}))\n",
    "\n",
    "      #documents_list.append({\n",
    "      #  \"content\": doc_content[0].page_content,\n",
    "      #  \"metadata\": {\"doc_number\": doc_number}\n",
    "      #})\n",
    "  return documents_list\n",
    "\n",
    "# same but for guías_texto\n",
    "guías_path = './guías_texto'  # Replace with your directory path\n",
    "guías_lista = []\n",
    "guías_lista = text_loader_guías(guías_path, guías_lista)"
   ]
  },
  {
   "cell_type": "code",
   "execution_count": 15,
   "metadata": {
    "id": "3ygV2L1-XcTP"
   },
   "outputs": [],
   "source": [
    "normativa_lista = normas_lista + guías_lista"
   ]
  },
  {
   "cell_type": "code",
   "execution_count": null,
   "metadata": {},
   "outputs": [
    {
     "ename": "NameError",
     "evalue": "name 'head' is not defined",
     "output_type": "error",
     "traceback": [
      "\u001b[0;31m---------------------------------------------------------------------------\u001b[0m",
      "\u001b[0;31mNameError\u001b[0m                                 Traceback (most recent call last)",
      "Cell \u001b[0;32mIn[17], line 1\u001b[0m\n\u001b[0;32m----> 1\u001b[0m \u001b[43mhead\u001b[49m(guías_lista)\n",
      "\u001b[0;31mNameError\u001b[0m: name 'head' is not defined"
     ]
    }
   ],
   "source": [
    "# guías_lista"
   ]
  },
  {
   "cell_type": "markdown",
   "metadata": {
    "id": "TPx1FBRFXcTQ"
   },
   "source": [
    "## 2. Split Documents into Chunks (if needed)\n",
    "\n",
    "Since the code already uses a RecursiveCharacterTextSplitter, you can apply it to the documents list directly:"
   ]
  },
  {
   "cell_type": "code",
   "execution_count": 8,
   "metadata": {
    "id": "6MLIx10wXcTQ"
   },
   "outputs": [],
   "source": [
    "documents = normativa_lista"
   ]
  },
  {
   "cell_type": "code",
   "execution_count": 9,
   "metadata": {
    "id": "ooQoQ9MWXcTR"
   },
   "outputs": [],
   "source": [
    "from langchain.text_splitter import RecursiveCharacterTextSplitter\n",
    "\n",
    "# Initialize the text splitter\n",
    "text_splitter = RecursiveCharacterTextSplitter(chunk_size=1000, chunk_overlap=200)\n",
    "split_documents = text_splitter.split_documents(documents)"
   ]
  },
  {
   "cell_type": "markdown",
   "metadata": {
    "id": "cC4p8L8TXcTR"
   },
   "source": [
    "## 3. Generate Embeddings and Store in Persistent Vector Store\n",
    "\n",
    "To save the Chroma vector store to a file, specify a persistent storage path."
   ]
  },
  {
   "cell_type": "code",
   "execution_count": 10,
   "metadata": {
    "colab": {
     "base_uri": "https://localhost:8080/"
    },
    "id": "nn86lkwUXcTS",
    "outputId": "cde67827-ef64-4cc6-e366-2532735fb6d7"
   },
   "outputs": [
    {
     "name": "stdout",
     "output_type": "stream",
     "text": [
      "Collecting langchain-ollama\n",
      "  Downloading langchain_ollama-0.2.0-py3-none-any.whl.metadata (1.8 kB)\n",
      "Requirement already satisfied: langchain-core<0.4.0,>=0.3.0 in /usr/local/lib/python3.10/dist-packages (from langchain-ollama) (0.3.21)\n",
      "Collecting ollama<1,>=0.3.0 (from langchain-ollama)\n",
      "  Downloading ollama-0.4.0-py3-none-any.whl.metadata (4.8 kB)\n",
      "Requirement already satisfied: PyYAML>=5.3 in /usr/local/lib/python3.10/dist-packages (from langchain-core<0.4.0,>=0.3.0->langchain-ollama) (6.0.2)\n",
      "Requirement already satisfied: jsonpatch<2.0,>=1.33 in /usr/local/lib/python3.10/dist-packages (from langchain-core<0.4.0,>=0.3.0->langchain-ollama) (1.33)\n",
      "Requirement already satisfied: langsmith<0.2.0,>=0.1.125 in /usr/local/lib/python3.10/dist-packages (from langchain-core<0.4.0,>=0.3.0->langchain-ollama) (0.1.143)\n",
      "Requirement already satisfied: packaging<25,>=23.2 in /usr/local/lib/python3.10/dist-packages (from langchain-core<0.4.0,>=0.3.0->langchain-ollama) (24.2)\n",
      "Requirement already satisfied: pydantic<3.0.0,>=2.5.2 in /usr/local/lib/python3.10/dist-packages (from langchain-core<0.4.0,>=0.3.0->langchain-ollama) (2.9.2)\n",
      "Requirement already satisfied: tenacity!=8.4.0,<10.0.0,>=8.1.0 in /usr/local/lib/python3.10/dist-packages (from langchain-core<0.4.0,>=0.3.0->langchain-ollama) (9.0.0)\n",
      "Requirement already satisfied: typing-extensions>=4.7 in /usr/local/lib/python3.10/dist-packages (from langchain-core<0.4.0,>=0.3.0->langchain-ollama) (4.12.2)\n",
      "Requirement already satisfied: httpx<0.28.0,>=0.27.0 in /usr/local/lib/python3.10/dist-packages (from ollama<1,>=0.3.0->langchain-ollama) (0.27.2)\n",
      "Requirement already satisfied: anyio in /usr/local/lib/python3.10/dist-packages (from httpx<0.28.0,>=0.27.0->ollama<1,>=0.3.0->langchain-ollama) (3.7.1)\n",
      "Requirement already satisfied: certifi in /usr/local/lib/python3.10/dist-packages (from httpx<0.28.0,>=0.27.0->ollama<1,>=0.3.0->langchain-ollama) (2024.8.30)\n",
      "Requirement already satisfied: httpcore==1.* in /usr/local/lib/python3.10/dist-packages (from httpx<0.28.0,>=0.27.0->ollama<1,>=0.3.0->langchain-ollama) (1.0.7)\n",
      "Requirement already satisfied: idna in /usr/local/lib/python3.10/dist-packages (from httpx<0.28.0,>=0.27.0->ollama<1,>=0.3.0->langchain-ollama) (3.10)\n",
      "Requirement already satisfied: sniffio in /usr/local/lib/python3.10/dist-packages (from httpx<0.28.0,>=0.27.0->ollama<1,>=0.3.0->langchain-ollama) (1.3.1)\n",
      "Requirement already satisfied: h11<0.15,>=0.13 in /usr/local/lib/python3.10/dist-packages (from httpcore==1.*->httpx<0.28.0,>=0.27.0->ollama<1,>=0.3.0->langchain-ollama) (0.14.0)\n",
      "Requirement already satisfied: jsonpointer>=1.9 in /usr/local/lib/python3.10/dist-packages (from jsonpatch<2.0,>=1.33->langchain-core<0.4.0,>=0.3.0->langchain-ollama) (3.0.0)\n",
      "Requirement already satisfied: orjson<4.0.0,>=3.9.14 in /usr/local/lib/python3.10/dist-packages (from langsmith<0.2.0,>=0.1.125->langchain-core<0.4.0,>=0.3.0->langchain-ollama) (3.10.11)\n",
      "Requirement already satisfied: requests<3,>=2 in /usr/local/lib/python3.10/dist-packages (from langsmith<0.2.0,>=0.1.125->langchain-core<0.4.0,>=0.3.0->langchain-ollama) (2.32.3)\n",
      "Requirement already satisfied: requests-toolbelt<2.0.0,>=1.0.0 in /usr/local/lib/python3.10/dist-packages (from langsmith<0.2.0,>=0.1.125->langchain-core<0.4.0,>=0.3.0->langchain-ollama) (1.0.0)\n",
      "Requirement already satisfied: annotated-types>=0.6.0 in /usr/local/lib/python3.10/dist-packages (from pydantic<3.0.0,>=2.5.2->langchain-core<0.4.0,>=0.3.0->langchain-ollama) (0.7.0)\n",
      "Requirement already satisfied: pydantic-core==2.23.4 in /usr/local/lib/python3.10/dist-packages (from pydantic<3.0.0,>=2.5.2->langchain-core<0.4.0,>=0.3.0->langchain-ollama) (2.23.4)\n",
      "Requirement already satisfied: charset-normalizer<4,>=2 in /usr/local/lib/python3.10/dist-packages (from requests<3,>=2->langsmith<0.2.0,>=0.1.125->langchain-core<0.4.0,>=0.3.0->langchain-ollama) (3.4.0)\n",
      "Requirement already satisfied: urllib3<3,>=1.21.1 in /usr/local/lib/python3.10/dist-packages (from requests<3,>=2->langsmith<0.2.0,>=0.1.125->langchain-core<0.4.0,>=0.3.0->langchain-ollama) (2.2.3)\n",
      "Requirement already satisfied: exceptiongroup in /usr/local/lib/python3.10/dist-packages (from anyio->httpx<0.28.0,>=0.27.0->ollama<1,>=0.3.0->langchain-ollama) (1.2.2)\n",
      "Downloading langchain_ollama-0.2.0-py3-none-any.whl (14 kB)\n",
      "Downloading ollama-0.4.0-py3-none-any.whl (12 kB)\n",
      "Installing collected packages: ollama, langchain-ollama\n",
      "Successfully installed langchain-ollama-0.2.0 ollama-0.4.0\n"
     ]
    }
   ],
   "source": [
    "try:\n",
    "  from langchain_ollama import OllamaEmbeddings\n",
    "except ImportError:\n",
    "  ! pip install langchain-ollama\n",
    "  from langchain_ollama import OllamaEmbeddings\n",
    "\n",
    "# Initialize the embedding model\n",
    "embeddings_model = OllamaEmbeddings(model=\"all-minilm\")"
   ]
  },
  {
   "cell_type": "code",
   "execution_count": 11,
   "metadata": {
    "id": "TfoFCuh7XcTT"
   },
   "outputs": [],
   "source": [
    "! pip install chromadb\n",
    "from langchain.vectorstores import Chroma"
   ]
  },
  {
   "cell_type": "code",
   "execution_count": 16,
   "metadata": {
    "colab": {
     "base_uri": "https://localhost:8080/"
    },
    "id": "cbLrzGWpXcTT",
    "outputId": "05a17067-4f3c-4b4a-f06c-baa8fd5a1a9a"
   },
   "outputs": [
    {
     "name": "stdout",
     "output_type": "stream",
     "text": [
      ">>> Installing ollama to /usr/local\n",
      ">>> Downloading Linux amd64 bundle\n",
      "############################################################################################# 100.0%\n",
      ">>> Adding ollama user to video group...\n",
      ">>> Adding current user to ollama group...\n",
      ">>> Creating ollama systemd service...\n",
      "\u001b[1m\u001b[31mWARNING:\u001b[m systemd is not running\n",
      "\u001b[1m\u001b[31mWARNING:\u001b[m Unable to detect NVIDIA/AMD GPU. Install lspci or lshw to automatically detect and install GPU dependencies.\n",
      ">>> The Ollama API is now available at 127.0.0.1:11434.\n",
      ">>> Install complete. Run \"ollama\" from the command line.\n",
      "\u001b[?25lpulling manifest ⠙ \u001b[?25h\u001b[?25l\u001b[2K\u001b[1Gpulling manifest ⠙ \u001b[?25h\u001b[?25l\u001b[2K\u001b[1Gpulling manifest ⠹ \u001b[?25h\u001b[?25l\u001b[2K\u001b[1Gpulling manifest ⠼ \u001b[?25h\u001b[?25l\u001b[2K\u001b[1Gpulling manifest ⠼ \u001b[?25h\u001b[?25l\u001b[2K\u001b[1Gpulling manifest ⠴ \u001b[?25h\u001b[?25l\u001b[2K\u001b[1Gpulling manifest ⠧ \u001b[?25h\u001b[?25l\u001b[2K\u001b[1Gpulling manifest ⠧ \u001b[?25h\u001b[?25l\u001b[2K\u001b[1Gpulling manifest ⠇ \u001b[?25h\u001b[?25l\u001b[2K\u001b[1Gpulling manifest ⠏ \u001b[?25h\u001b[?25l\u001b[2K\u001b[1Gpulling manifest ⠙ \u001b[?25h\u001b[?25l\u001b[2K\u001b[1Gpulling manifest ⠙ \u001b[?25h\u001b[?25l\u001b[2K\u001b[1Gpulling manifest ⠹ \u001b[?25h\u001b[?25l\u001b[2K\u001b[1Gpulling manifest ⠼ \u001b[?25h\u001b[?25l\u001b[2K\u001b[1Gpulling manifest ⠼ \u001b[?25h\u001b[?25l\u001b[2K\u001b[1Gpulling manifest ⠴ \u001b[?25h\u001b[?25l\u001b[2K\u001b[1Gpulling manifest ⠦ \u001b[?25h\u001b[?25l\u001b[2K\u001b[1Gpulling manifest ⠇ \u001b[?25h\u001b[?25l\u001b[2K\u001b[1Gpulling manifest ⠇ \u001b[?25h\u001b[?25l\u001b[2K\u001b[1Gpulling manifest ⠋ \u001b[?25h\u001b[?25l\u001b[2K\u001b[1Gpulling manifest ⠋ \u001b[?25h\u001b[?25l\u001b[2K\u001b[1Gpulling manifest ⠙ \u001b[?25h\u001b[?25l\u001b[2K\u001b[1Gpulling manifest \n",
      "pulling 797b70c4edf8...   0% ▕▏    0 B/ 45 MB                  \u001b[?25h\u001b[?25l\u001b[2K\u001b[1G\u001b[A\u001b[2K\u001b[1Gpulling manifest \n",
      "pulling 797b70c4edf8...   0% ▕▏    0 B/ 45 MB                  \u001b[?25h\u001b[?25l\u001b[2K\u001b[1G\u001b[A\u001b[2K\u001b[1Gpulling manifest \n",
      "pulling 797b70c4edf8...   0% ▕▏    0 B/ 45 MB                  \u001b[?25h\u001b[?25l\u001b[2K\u001b[1G\u001b[A\u001b[2K\u001b[1Gpulling manifest \n",
      "pulling 797b70c4edf8...   0% ▕▏    0 B/ 45 MB                  \u001b[?25h\u001b[?25l\u001b[2K\u001b[1G\u001b[A\u001b[2K\u001b[1Gpulling manifest \n",
      "pulling 797b70c4edf8...   0% ▕▏    0 B/ 45 MB                  \u001b[?25h\u001b[?25l\u001b[2K\u001b[1G\u001b[A\u001b[2K\u001b[1Gpulling manifest \n",
      "pulling 797b70c4edf8...  20% ▕▏ 9.0 MB/ 45 MB                  \u001b[?25h\u001b[?25l\u001b[2K\u001b[1G\u001b[A\u001b[2K\u001b[1Gpulling manifest \n",
      "pulling 797b70c4edf8...  54% ▕▏  24 MB/ 45 MB                  \u001b[?25h\u001b[?25l\u001b[2K\u001b[1G\u001b[A\u001b[2K\u001b[1Gpulling manifest \n",
      "pulling 797b70c4edf8...  71% ▕▏  32 MB/ 45 MB                  \u001b[?25h\u001b[?25l\u001b[2K\u001b[1G\u001b[A\u001b[2K\u001b[1Gpulling manifest \n",
      "pulling 797b70c4edf8... 100% ▕▏  45 MB                         \u001b[?25h\u001b[?25l\u001b[2K\u001b[1G\u001b[A\u001b[2K\u001b[1Gpulling manifest \n",
      "pulling 797b70c4edf8... 100% ▕▏  45 MB                         \u001b[?25h\u001b[?25l\u001b[2K\u001b[1G\u001b[A\u001b[2K\u001b[1Gpulling manifest \n",
      "pulling 797b70c4edf8... 100% ▕▏  45 MB                         \u001b[?25h\u001b[?25l\u001b[2K\u001b[1G\u001b[A\u001b[2K\u001b[1Gpulling manifest \n",
      "pulling 797b70c4edf8... 100% ▕▏  45 MB                         \u001b[?25h\u001b[?25l\u001b[2K\u001b[1G\u001b[A\u001b[2K\u001b[1Gpulling manifest \n",
      "pulling 797b70c4edf8... 100% ▕▏  45 MB                         \u001b[?25h\u001b[?25l\u001b[2K\u001b[1G\u001b[A\u001b[2K\u001b[1Gpulling manifest \n",
      "pulling 797b70c4edf8... 100% ▕▏  45 MB                         \u001b[?25h\u001b[?25l\u001b[2K\u001b[1G\u001b[A\u001b[2K\u001b[1Gpulling manifest \n",
      "pulling 797b70c4edf8... 100% ▕▏  45 MB                         \u001b[?25h\u001b[?25l\u001b[2K\u001b[1G\u001b[A\u001b[2K\u001b[1Gpulling manifest \n",
      "pulling 797b70c4edf8... 100% ▕▏  45 MB                         \u001b[?25h\u001b[?25l\u001b[2K\u001b[1G\u001b[A\u001b[2K\u001b[1Gpulling manifest \n",
      "pulling 797b70c4edf8... 100% ▕▏  45 MB                         \u001b[?25h\u001b[?25l\u001b[2K\u001b[1G\u001b[A\u001b[2K\u001b[1Gpulling manifest \n",
      "pulling 797b70c4edf8... 100% ▕▏  45 MB                         \u001b[?25h\u001b[?25l\u001b[2K\u001b[1G\u001b[A\u001b[2K\u001b[1Gpulling manifest \n",
      "pulling 797b70c4edf8... 100% ▕▏  45 MB                         \u001b[?25h\u001b[?25l\u001b[2K\u001b[1G\u001b[A\u001b[2K\u001b[1Gpulling manifest \n",
      "pulling 797b70c4edf8... 100% ▕▏  45 MB                         \u001b[?25h\u001b[?25l\u001b[2K\u001b[1G\u001b[A\u001b[2K\u001b[1Gpulling manifest \n",
      "pulling 797b70c4edf8... 100% ▕▏  45 MB                         \u001b[?25h\u001b[?25l\u001b[2K\u001b[1G\u001b[A\u001b[2K\u001b[1Gpulling manifest \n",
      "pulling 797b70c4edf8... 100% ▕▏  45 MB                         \u001b[?25h\u001b[?25l\u001b[2K\u001b[1G\u001b[A\u001b[2K\u001b[1Gpulling manifest \n",
      "pulling 797b70c4edf8... 100% ▕▏  45 MB                         \u001b[?25h\u001b[?25l\u001b[2K\u001b[1G\u001b[A\u001b[2K\u001b[1Gpulling manifest \n",
      "pulling 797b70c4edf8... 100% ▕▏  45 MB                         \u001b[?25h\u001b[?25l\u001b[2K\u001b[1G\u001b[A\u001b[2K\u001b[1Gpulling manifest \n",
      "pulling 797b70c4edf8... 100% ▕▏  45 MB                         \n",
      "pulling c71d239df917...   0% ▕▏    0 B/ 11 KB                  \u001b[?25h\u001b[?25l\u001b[2K\u001b[1G\u001b[A\u001b[2K\u001b[1G\u001b[A\u001b[2K\u001b[1Gpulling manifest \n",
      "pulling 797b70c4edf8... 100% ▕▏  45 MB                         \n",
      "pulling c71d239df917...   0% ▕▏    0 B/ 11 KB                  \u001b[?25h\u001b[?25l\u001b[2K\u001b[1G\u001b[A\u001b[2K\u001b[1G\u001b[A\u001b[2K\u001b[1Gpulling manifest \n",
      "pulling 797b70c4edf8... 100% ▕▏  45 MB                         \n",
      "pulling c71d239df917...   0% ▕▏    0 B/ 11 KB                  \u001b[?25h\u001b[?25l\u001b[2K\u001b[1G\u001b[A\u001b[2K\u001b[1G\u001b[A\u001b[2K\u001b[1Gpulling manifest \n",
      "pulling 797b70c4edf8... 100% ▕▏  45 MB                         \n",
      "pulling c71d239df917...   0% ▕▏    0 B/ 11 KB                  \u001b[?25h\u001b[?25l\u001b[2K\u001b[1G\u001b[A\u001b[2K\u001b[1G\u001b[A\u001b[2K\u001b[1Gpulling manifest \n",
      "pulling 797b70c4edf8... 100% ▕▏  45 MB                         \n",
      "pulling c71d239df917...   0% ▕▏    0 B/ 11 KB                  \u001b[?25h\u001b[?25l\u001b[2K\u001b[1G\u001b[A\u001b[2K\u001b[1G\u001b[A\u001b[2K\u001b[1Gpulling manifest \n",
      "pulling 797b70c4edf8... 100% ▕▏  45 MB                         \n",
      "pulling c71d239df917...   0% ▕▏    0 B/ 11 KB                  \u001b[?25h\u001b[?25l\u001b[2K\u001b[1G\u001b[A\u001b[2K\u001b[1G\u001b[A\u001b[2K\u001b[1Gpulling manifest \n",
      "pulling 797b70c4edf8... 100% ▕▏  45 MB                         \n",
      "pulling c71d239df917...   0% ▕▏    0 B/ 11 KB                  \u001b[?25h\u001b[?25l\u001b[2K\u001b[1G\u001b[A\u001b[2K\u001b[1G\u001b[A\u001b[2K\u001b[1Gpulling manifest \n",
      "pulling 797b70c4edf8... 100% ▕▏  45 MB                         \n",
      "pulling c71d239df917...   0% ▕▏    0 B/ 11 KB                  \u001b[?25h\u001b[?25l\u001b[2K\u001b[1G\u001b[A\u001b[2K\u001b[1G\u001b[A\u001b[2K\u001b[1Gpulling manifest \n",
      "pulling 797b70c4edf8... 100% ▕▏  45 MB                         \n",
      "pulling c71d239df917...   0% ▕▏    0 B/ 11 KB                  \u001b[?25h\u001b[?25l\u001b[2K\u001b[1G\u001b[A\u001b[2K\u001b[1G\u001b[A\u001b[2K\u001b[1Gpulling manifest \n",
      "pulling 797b70c4edf8... 100% ▕▏  45 MB                         \n",
      "pulling c71d239df917...   0% ▕▏    0 B/ 11 KB                  \u001b[?25h\u001b[?25l\u001b[2K\u001b[1G\u001b[A\u001b[2K\u001b[1G\u001b[A\u001b[2K\u001b[1Gpulling manifest \n",
      "pulling 797b70c4edf8... 100% ▕▏  45 MB                         \n",
      "pulling c71d239df917...   0% ▕▏    0 B/ 11 KB                  \u001b[?25h\u001b[?25l\u001b[2K\u001b[1G\u001b[A\u001b[2K\u001b[1G\u001b[A\u001b[2K\u001b[1Gpulling manifest \n",
      "pulling 797b70c4edf8... 100% ▕▏  45 MB                         \n",
      "pulling c71d239df917...   0% ▕▏    0 B/ 11 KB                  \u001b[?25h\u001b[?25l\u001b[2K\u001b[1G\u001b[A\u001b[2K\u001b[1G\u001b[A\u001b[2K\u001b[1Gpulling manifest \n",
      "pulling 797b70c4edf8... 100% ▕▏  45 MB                         \n",
      "pulling c71d239df917... 100% ▕▏  11 KB                         \u001b[?25h\u001b[?25l\u001b[2K\u001b[1G\u001b[A\u001b[2K\u001b[1G\u001b[A\u001b[2K\u001b[1Gpulling manifest \n",
      "pulling 797b70c4edf8... 100% ▕▏  45 MB                         \n",
      "pulling c71d239df917... 100% ▕▏  11 KB                         \u001b[?25h\u001b[?25l\u001b[2K\u001b[1G\u001b[A\u001b[2K\u001b[1G\u001b[A\u001b[2K\u001b[1Gpulling manifest \n",
      "pulling 797b70c4edf8... 100% ▕▏  45 MB                         \n",
      "pulling c71d239df917... 100% ▕▏  11 KB                         \u001b[?25h\u001b[?25l\u001b[2K\u001b[1G\u001b[A\u001b[2K\u001b[1G\u001b[A\u001b[2K\u001b[1Gpulling manifest \n",
      "pulling 797b70c4edf8... 100% ▕▏  45 MB                         \n",
      "pulling c71d239df917... 100% ▕▏  11 KB                         \u001b[?25h\u001b[?25l\u001b[2K\u001b[1G\u001b[A\u001b[2K\u001b[1G\u001b[A\u001b[2K\u001b[1Gpulling manifest \n",
      "pulling 797b70c4edf8... 100% ▕▏  45 MB                         \n",
      "pulling c71d239df917... 100% ▕▏  11 KB                         \u001b[?25h\u001b[?25l\u001b[2K\u001b[1G\u001b[A\u001b[2K\u001b[1G\u001b[A\u001b[2K\u001b[1Gpulling manifest \n",
      "pulling 797b70c4edf8... 100% ▕▏  45 MB                         \n",
      "pulling c71d239df917... 100% ▕▏  11 KB                         \u001b[?25h\u001b[?25l\u001b[2K\u001b[1G\u001b[A\u001b[2K\u001b[1G\u001b[A\u001b[2K\u001b[1Gpulling manifest \n",
      "pulling 797b70c4edf8... 100% ▕▏  45 MB                         \n",
      "pulling c71d239df917... 100% ▕▏  11 KB                         \u001b[?25h\u001b[?25l\u001b[2K\u001b[1G\u001b[A\u001b[2K\u001b[1G\u001b[A\u001b[2K\u001b[1Gpulling manifest \n",
      "pulling 797b70c4edf8... 100% ▕▏  45 MB                         \n",
      "pulling c71d239df917... 100% ▕▏  11 KB                         \u001b[?25h\u001b[?25l\u001b[2K\u001b[1G\u001b[A\u001b[2K\u001b[1G\u001b[A\u001b[2K\u001b[1Gpulling manifest \n",
      "pulling 797b70c4edf8... 100% ▕▏  45 MB                         \n",
      "pulling c71d239df917... 100% ▕▏  11 KB                         \u001b[?25h\u001b[?25l\u001b[2K\u001b[1G\u001b[A\u001b[2K\u001b[1G\u001b[A\u001b[2K\u001b[1Gpulling manifest \n",
      "pulling 797b70c4edf8... 100% ▕▏  45 MB                         \n",
      "pulling c71d239df917... 100% ▕▏  11 KB                         \u001b[?25h\u001b[?25l\u001b[2K\u001b[1G\u001b[A\u001b[2K\u001b[1G\u001b[A\u001b[2K\u001b[1Gpulling manifest \n",
      "pulling 797b70c4edf8... 100% ▕▏  45 MB                         \n",
      "pulling c71d239df917... 100% ▕▏  11 KB                         \u001b[?25h\u001b[?25l\u001b[2K\u001b[1G\u001b[A\u001b[2K\u001b[1G\u001b[A\u001b[2K\u001b[1Gpulling manifest \n",
      "pulling 797b70c4edf8... 100% ▕▏  45 MB                         \n",
      "pulling c71d239df917... 100% ▕▏  11 KB                         \u001b[?25h\u001b[?25l\u001b[2K\u001b[1G\u001b[A\u001b[2K\u001b[1G\u001b[A\u001b[2K\u001b[1Gpulling manifest \n",
      "pulling 797b70c4edf8... 100% ▕▏  45 MB                         \n",
      "pulling c71d239df917... 100% ▕▏  11 KB                         \u001b[?25h\u001b[?25l\u001b[2K\u001b[1G\u001b[A\u001b[2K\u001b[1G\u001b[A\u001b[2K\u001b[1Gpulling manifest \n",
      "pulling 797b70c4edf8... 100% ▕▏  45 MB                         \n",
      "pulling c71d239df917... 100% ▕▏  11 KB                         \u001b[?25h\u001b[?25l\u001b[2K\u001b[1G\u001b[A\u001b[2K\u001b[1G\u001b[A\u001b[2K\u001b[1Gpulling manifest \n",
      "pulling 797b70c4edf8... 100% ▕▏  45 MB                         \n",
      "pulling c71d239df917... 100% ▕▏  11 KB                         \u001b[?25h\u001b[?25l\u001b[2K\u001b[1G\u001b[A\u001b[2K\u001b[1G\u001b[A\u001b[2K\u001b[1Gpulling manifest \n",
      "pulling 797b70c4edf8... 100% ▕▏  45 MB                         \n",
      "pulling c71d239df917... 100% ▕▏  11 KB                         \u001b[?25h\u001b[?25l\u001b[2K\u001b[1G\u001b[A\u001b[2K\u001b[1G\u001b[A\u001b[2K\u001b[1Gpulling manifest \n",
      "pulling 797b70c4edf8... 100% ▕▏  45 MB                         \n",
      "pulling c71d239df917... 100% ▕▏  11 KB                         \u001b[?25h\u001b[?25l\u001b[2K\u001b[1G\u001b[A\u001b[2K\u001b[1G\u001b[A\u001b[2K\u001b[1Gpulling manifest \n",
      "pulling 797b70c4edf8... 100% ▕▏  45 MB                         \n",
      "pulling c71d239df917... 100% ▕▏  11 KB                         \u001b[?25h\u001b[?25l\u001b[2K\u001b[1G\u001b[A\u001b[2K\u001b[1G\u001b[A\u001b[2K\u001b[1Gpulling manifest \n",
      "pulling 797b70c4edf8... 100% ▕▏  45 MB                         \n",
      "pulling c71d239df917... 100% ▕▏  11 KB                         \u001b[?25h\u001b[?25l\u001b[2K\u001b[1G\u001b[A\u001b[2K\u001b[1G\u001b[A\u001b[2K\u001b[1Gpulling manifest \n",
      "pulling 797b70c4edf8... 100% ▕▏  45 MB                         \n",
      "pulling c71d239df917... 100% ▕▏  11 KB                         \n",
      "pulling 85011998c600...   0% ▕▏    0 B/  16 B                  \u001b[?25h\u001b[?25l\u001b[2K\u001b[1G\u001b[A\u001b[2K\u001b[1G\u001b[A\u001b[2K\u001b[1G\u001b[A\u001b[2K\u001b[1Gpulling manifest \n",
      "pulling 797b70c4edf8... 100% ▕▏  45 MB                         \n",
      "pulling c71d239df917... 100% ▕▏  11 KB                         \n",
      "pulling 85011998c600...   0% ▕▏    0 B/  16 B                  \u001b[?25h\u001b[?25l\u001b[2K\u001b[1G\u001b[A\u001b[2K\u001b[1G\u001b[A\u001b[2K\u001b[1G\u001b[A\u001b[2K\u001b[1Gpulling manifest \n",
      "pulling 797b70c4edf8... 100% ▕▏  45 MB                         \n",
      "pulling c71d239df917... 100% ▕▏  11 KB                         \n",
      "pulling 85011998c600...   0% ▕▏    0 B/  16 B                  \u001b[?25h\u001b[?25l\u001b[2K\u001b[1G\u001b[A\u001b[2K\u001b[1G\u001b[A\u001b[2K\u001b[1G\u001b[A\u001b[2K\u001b[1Gpulling manifest \n",
      "pulling 797b70c4edf8... 100% ▕▏  45 MB                         \n",
      "pulling c71d239df917... 100% ▕▏  11 KB                         \n",
      "pulling 85011998c600...   0% ▕▏    0 B/  16 B                  \u001b[?25h\u001b[?25l\u001b[2K\u001b[1G\u001b[A\u001b[2K\u001b[1G\u001b[A\u001b[2K\u001b[1G\u001b[A\u001b[2K\u001b[1Gpulling manifest \n",
      "pulling 797b70c4edf8... 100% ▕▏  45 MB                         \n",
      "pulling c71d239df917... 100% ▕▏  11 KB                         \n",
      "pulling 85011998c600...   0% ▕▏    0 B/  16 B                  \u001b[?25h\u001b[?25l\u001b[2K\u001b[1G\u001b[A\u001b[2K\u001b[1G\u001b[A\u001b[2K\u001b[1G\u001b[A\u001b[2K\u001b[1Gpulling manifest \n",
      "pulling 797b70c4edf8... 100% ▕▏  45 MB                         \n",
      "pulling c71d239df917... 100% ▕▏  11 KB                         \n",
      "pulling 85011998c600...   0% ▕▏    0 B/  16 B                  \u001b[?25h\u001b[?25l\u001b[2K\u001b[1G\u001b[A\u001b[2K\u001b[1G\u001b[A\u001b[2K\u001b[1G\u001b[A\u001b[2K\u001b[1Gpulling manifest \n",
      "pulling 797b70c4edf8... 100% ▕▏  45 MB                         \n",
      "pulling c71d239df917... 100% ▕▏  11 KB                         \n",
      "pulling 85011998c600...   0% ▕▏    0 B/  16 B                  \u001b[?25h\u001b[?25l\u001b[2K\u001b[1G\u001b[A\u001b[2K\u001b[1G\u001b[A\u001b[2K\u001b[1G\u001b[A\u001b[2K\u001b[1Gpulling manifest \n",
      "pulling 797b70c4edf8... 100% ▕▏  45 MB                         \n",
      "pulling c71d239df917... 100% ▕▏  11 KB                         \n",
      "pulling 85011998c600...   0% ▕▏    0 B/  16 B                  \u001b[?25h\u001b[?25l\u001b[2K\u001b[1G\u001b[A\u001b[2K\u001b[1G\u001b[A\u001b[2K\u001b[1G\u001b[A\u001b[2K\u001b[1Gpulling manifest \n",
      "pulling 797b70c4edf8... 100% ▕▏  45 MB                         \n",
      "pulling c71d239df917... 100% ▕▏  11 KB                         \n",
      "pulling 85011998c600...   0% ▕▏    0 B/  16 B                  \u001b[?25h\u001b[?25l\u001b[2K\u001b[1G\u001b[A\u001b[2K\u001b[1G\u001b[A\u001b[2K\u001b[1G\u001b[A\u001b[2K\u001b[1Gpulling manifest \n",
      "pulling 797b70c4edf8... 100% ▕▏  45 MB                         \n",
      "pulling c71d239df917... 100% ▕▏  11 KB                         \n",
      "pulling 85011998c600...   0% ▕▏    0 B/  16 B                  \u001b[?25h\u001b[?25l\u001b[2K\u001b[1G\u001b[A\u001b[2K\u001b[1G\u001b[A\u001b[2K\u001b[1G\u001b[A\u001b[2K\u001b[1Gpulling manifest \n",
      "pulling 797b70c4edf8... 100% ▕▏  45 MB                         \n",
      "pulling c71d239df917... 100% ▕▏  11 KB                         \n",
      "pulling 85011998c600...   0% ▕▏    0 B/  16 B                  \u001b[?25h\u001b[?25l\u001b[2K\u001b[1G\u001b[A\u001b[2K\u001b[1G\u001b[A\u001b[2K\u001b[1G\u001b[A\u001b[2K\u001b[1Gpulling manifest \n",
      "pulling 797b70c4edf8... 100% ▕▏  45 MB                         \n",
      "pulling c71d239df917... 100% ▕▏  11 KB                         \n",
      "pulling 85011998c600...   0% ▕▏    0 B/  16 B                  \u001b[?25h\u001b[?25l\u001b[2K\u001b[1G\u001b[A\u001b[2K\u001b[1G\u001b[A\u001b[2K\u001b[1G\u001b[A\u001b[2K\u001b[1Gpulling manifest \n",
      "pulling 797b70c4edf8... 100% ▕▏  45 MB                         \n",
      "pulling c71d239df917... 100% ▕▏  11 KB                         \n",
      "pulling 85011998c600... 100% ▕▏   16 B                         \u001b[?25h\u001b[?25l\u001b[2K\u001b[1G\u001b[A\u001b[2K\u001b[1G\u001b[A\u001b[2K\u001b[1G\u001b[A\u001b[2K\u001b[1Gpulling manifest \n",
      "pulling 797b70c4edf8... 100% ▕▏  45 MB                         \n",
      "pulling c71d239df917... 100% ▕▏  11 KB                         \n",
      "pulling 85011998c600... 100% ▕▏   16 B                         \u001b[?25h\u001b[?25l\u001b[2K\u001b[1G\u001b[A\u001b[2K\u001b[1G\u001b[A\u001b[2K\u001b[1G\u001b[A\u001b[2K\u001b[1Gpulling manifest \n",
      "pulling 797b70c4edf8... 100% ▕▏  45 MB                         \n",
      "pulling c71d239df917... 100% ▕▏  11 KB                         \n",
      "pulling 85011998c600... 100% ▕▏   16 B                         \u001b[?25h\u001b[?25l\u001b[2K\u001b[1G\u001b[A\u001b[2K\u001b[1G\u001b[A\u001b[2K\u001b[1G\u001b[A\u001b[2K\u001b[1Gpulling manifest \n",
      "pulling 797b70c4edf8... 100% ▕▏  45 MB                         \n",
      "pulling c71d239df917... 100% ▕▏  11 KB                         \n",
      "pulling 85011998c600... 100% ▕▏   16 B                         \u001b[?25h\u001b[?25l\u001b[2K\u001b[1G\u001b[A\u001b[2K\u001b[1G\u001b[A\u001b[2K\u001b[1G\u001b[A\u001b[2K\u001b[1Gpulling manifest \n",
      "pulling 797b70c4edf8... 100% ▕▏  45 MB                         \n",
      "pulling c71d239df917... 100% ▕▏  11 KB                         \n",
      "pulling 85011998c600... 100% ▕▏   16 B                         \u001b[?25h\u001b[?25l\u001b[2K\u001b[1G\u001b[A\u001b[2K\u001b[1G\u001b[A\u001b[2K\u001b[1G\u001b[A\u001b[2K\u001b[1Gpulling manifest \n",
      "pulling 797b70c4edf8... 100% ▕▏  45 MB                         \n",
      "pulling c71d239df917... 100% ▕▏  11 KB                         \n",
      "pulling 85011998c600... 100% ▕▏   16 B                         \u001b[?25h\u001b[?25l\u001b[2K\u001b[1G\u001b[A\u001b[2K\u001b[1G\u001b[A\u001b[2K\u001b[1G\u001b[A\u001b[2K\u001b[1Gpulling manifest \n",
      "pulling 797b70c4edf8... 100% ▕▏  45 MB                         \n",
      "pulling c71d239df917... 100% ▕▏  11 KB                         \n",
      "pulling 85011998c600... 100% ▕▏   16 B                         \u001b[?25h\u001b[?25l\u001b[2K\u001b[1G\u001b[A\u001b[2K\u001b[1G\u001b[A\u001b[2K\u001b[1G\u001b[A\u001b[2K\u001b[1Gpulling manifest \n",
      "pulling 797b70c4edf8... 100% ▕▏  45 MB                         \n",
      "pulling c71d239df917... 100% ▕▏  11 KB                         \n",
      "pulling 85011998c600... 100% ▕▏   16 B                         \u001b[?25h\u001b[?25l\u001b[2K\u001b[1G\u001b[A\u001b[2K\u001b[1G\u001b[A\u001b[2K\u001b[1G\u001b[A\u001b[2K\u001b[1Gpulling manifest \n",
      "pulling 797b70c4edf8... 100% ▕▏  45 MB                         \n",
      "pulling c71d239df917... 100% ▕▏  11 KB                         \n",
      "pulling 85011998c600... 100% ▕▏   16 B                         \u001b[?25h\u001b[?25l\u001b[2K\u001b[1G\u001b[A\u001b[2K\u001b[1G\u001b[A\u001b[2K\u001b[1G\u001b[A\u001b[2K\u001b[1Gpulling manifest \n",
      "pulling 797b70c4edf8... 100% ▕▏  45 MB                         \n",
      "pulling c71d239df917... 100% ▕▏  11 KB                         \n",
      "pulling 85011998c600... 100% ▕▏   16 B                         \u001b[?25h\u001b[?25l\u001b[2K\u001b[1G\u001b[A\u001b[2K\u001b[1G\u001b[A\u001b[2K\u001b[1G\u001b[A\u001b[2K\u001b[1Gpulling manifest \n",
      "pulling 797b70c4edf8... 100% ▕▏  45 MB                         \n",
      "pulling c71d239df917... 100% ▕▏  11 KB                         \n",
      "pulling 85011998c600... 100% ▕▏   16 B                         \u001b[?25h\u001b[?25l\u001b[2K\u001b[1G\u001b[A\u001b[2K\u001b[1G\u001b[A\u001b[2K\u001b[1G\u001b[A\u001b[2K\u001b[1Gpulling manifest \n",
      "pulling 797b70c4edf8... 100% ▕▏  45 MB                         \n",
      "pulling c71d239df917... 100% ▕▏  11 KB                         \n",
      "pulling 85011998c600... 100% ▕▏   16 B                         \u001b[?25h\u001b[?25l\u001b[2K\u001b[1G\u001b[A\u001b[2K\u001b[1G\u001b[A\u001b[2K\u001b[1G\u001b[A\u001b[2K\u001b[1Gpulling manifest \n",
      "pulling 797b70c4edf8... 100% ▕▏  45 MB                         \n",
      "pulling c71d239df917... 100% ▕▏  11 KB                         \n",
      "pulling 85011998c600... 100% ▕▏   16 B                         \u001b[?25h\u001b[?25l\u001b[2K\u001b[1G\u001b[A\u001b[2K\u001b[1G\u001b[A\u001b[2K\u001b[1G\u001b[A\u001b[2K\u001b[1Gpulling manifest \n",
      "pulling 797b70c4edf8... 100% ▕▏  45 MB                         \n",
      "pulling c71d239df917... 100% ▕▏  11 KB                         \n",
      "pulling 85011998c600... 100% ▕▏   16 B                         \u001b[?25h\u001b[?25l\u001b[2K\u001b[1G\u001b[A\u001b[2K\u001b[1G\u001b[A\u001b[2K\u001b[1G\u001b[A\u001b[2K\u001b[1Gpulling manifest \n",
      "pulling 797b70c4edf8... 100% ▕▏  45 MB                         \n",
      "pulling c71d239df917... 100% ▕▏  11 KB                         \n",
      "pulling 85011998c600... 100% ▕▏   16 B                         \u001b[?25h\u001b[?25l\u001b[2K\u001b[1G\u001b[A\u001b[2K\u001b[1G\u001b[A\u001b[2K\u001b[1G\u001b[A\u001b[2K\u001b[1Gpulling manifest \n",
      "pulling 797b70c4edf8... 100% ▕▏  45 MB                         \n",
      "pulling c71d239df917... 100% ▕▏  11 KB                         \n",
      "pulling 85011998c600... 100% ▕▏   16 B                         \u001b[?25h\u001b[?25l\u001b[2K\u001b[1G\u001b[A\u001b[2K\u001b[1G\u001b[A\u001b[2K\u001b[1G\u001b[A\u001b[2K\u001b[1Gpulling manifest \n",
      "pulling 797b70c4edf8... 100% ▕▏  45 MB                         \n",
      "pulling c71d239df917... 100% ▕▏  11 KB                         \n",
      "pulling 85011998c600... 100% ▕▏   16 B                         \u001b[?25h\u001b[?25l\u001b[2K\u001b[1G\u001b[A\u001b[2K\u001b[1G\u001b[A\u001b[2K\u001b[1G\u001b[A\u001b[2K\u001b[1Gpulling manifest \n",
      "pulling 797b70c4edf8... 100% ▕▏  45 MB                         \n",
      "pulling c71d239df917... 100% ▕▏  11 KB                         \n",
      "pulling 85011998c600... 100% ▕▏   16 B                         \u001b[?25h\u001b[?25l\u001b[2K\u001b[1G\u001b[A\u001b[2K\u001b[1G\u001b[A\u001b[2K\u001b[1G\u001b[A\u001b[2K\u001b[1Gpulling manifest \n",
      "pulling 797b70c4edf8... 100% ▕▏  45 MB                         \n",
      "pulling c71d239df917... 100% ▕▏  11 KB                         \n",
      "pulling 85011998c600... 100% ▕▏   16 B                         \u001b[?25h\u001b[?25l\u001b[2K\u001b[1G\u001b[A\u001b[2K\u001b[1G\u001b[A\u001b[2K\u001b[1G\u001b[A\u001b[2K\u001b[1Gpulling manifest \n",
      "pulling 797b70c4edf8... 100% ▕▏  45 MB                         \n",
      "pulling c71d239df917... 100% ▕▏  11 KB                         \n",
      "pulling 85011998c600... 100% ▕▏   16 B                         \n",
      "pulling 548455b72658...   0% ▕▏    0 B/ 407 B                  \u001b[?25h\u001b[?25l\u001b[2K\u001b[1G\u001b[A\u001b[2K\u001b[1G\u001b[A\u001b[2K\u001b[1G\u001b[A\u001b[2K\u001b[1G\u001b[A\u001b[2K\u001b[1Gpulling manifest \n",
      "pulling 797b70c4edf8... 100% ▕▏  45 MB                         \n",
      "pulling c71d239df917... 100% ▕▏  11 KB                         \n",
      "pulling 85011998c600... 100% ▕▏   16 B                         \n",
      "pulling 548455b72658...   0% ▕▏    0 B/ 407 B                  \u001b[?25h\u001b[?25l\u001b[2K\u001b[1G\u001b[A\u001b[2K\u001b[1G\u001b[A\u001b[2K\u001b[1G\u001b[A\u001b[2K\u001b[1G\u001b[A\u001b[2K\u001b[1Gpulling manifest \n",
      "pulling 797b70c4edf8... 100% ▕▏  45 MB                         \n",
      "pulling c71d239df917... 100% ▕▏  11 KB                         \n",
      "pulling 85011998c600... 100% ▕▏   16 B                         \n",
      "pulling 548455b72658...   0% ▕▏    0 B/ 407 B                  \u001b[?25h\u001b[?25l\u001b[2K\u001b[1G\u001b[A\u001b[2K\u001b[1G\u001b[A\u001b[2K\u001b[1G\u001b[A\u001b[2K\u001b[1G\u001b[A\u001b[2K\u001b[1Gpulling manifest \n",
      "pulling 797b70c4edf8... 100% ▕▏  45 MB                         \n",
      "pulling c71d239df917... 100% ▕▏  11 KB                         \n",
      "pulling 85011998c600... 100% ▕▏   16 B                         \n",
      "pulling 548455b72658...   0% ▕▏    0 B/ 407 B                  \u001b[?25h\u001b[?25l\u001b[2K\u001b[1G\u001b[A\u001b[2K\u001b[1G\u001b[A\u001b[2K\u001b[1G\u001b[A\u001b[2K\u001b[1G\u001b[A\u001b[2K\u001b[1Gpulling manifest \n",
      "pulling 797b70c4edf8... 100% ▕▏  45 MB                         \n",
      "pulling c71d239df917... 100% ▕▏  11 KB                         \n",
      "pulling 85011998c600... 100% ▕▏   16 B                         \n",
      "pulling 548455b72658...   0% ▕▏    0 B/ 407 B                  \u001b[?25h\u001b[?25l\u001b[2K\u001b[1G\u001b[A\u001b[2K\u001b[1G\u001b[A\u001b[2K\u001b[1G\u001b[A\u001b[2K\u001b[1G\u001b[A\u001b[2K\u001b[1Gpulling manifest \n",
      "pulling 797b70c4edf8... 100% ▕▏  45 MB                         \n",
      "pulling c71d239df917... 100% ▕▏  11 KB                         \n",
      "pulling 85011998c600... 100% ▕▏   16 B                         \n",
      "pulling 548455b72658... 100% ▕▏  407 B                         \u001b[?25h\u001b[?25l\u001b[2K\u001b[1G\u001b[A\u001b[2K\u001b[1G\u001b[A\u001b[2K\u001b[1G\u001b[A\u001b[2K\u001b[1G\u001b[A\u001b[2K\u001b[1Gpulling manifest \n",
      "pulling 797b70c4edf8... 100% ▕▏  45 MB                         \n",
      "pulling c71d239df917... 100% ▕▏  11 KB                         \n",
      "pulling 85011998c600... 100% ▕▏   16 B                         \n",
      "pulling 548455b72658... 100% ▕▏  407 B                         \u001b[?25h\u001b[?25l\u001b[2K\u001b[1G\u001b[A\u001b[2K\u001b[1G\u001b[A\u001b[2K\u001b[1G\u001b[A\u001b[2K\u001b[1G\u001b[A\u001b[2K\u001b[1Gpulling manifest \n",
      "pulling 797b70c4edf8... 100% ▕▏  45 MB                         \n",
      "pulling c71d239df917... 100% ▕▏  11 KB                         \n",
      "pulling 85011998c600... 100% ▕▏   16 B                         \n",
      "pulling 548455b72658... 100% ▕▏  407 B                         \u001b[?25h\u001b[?25l\u001b[2K\u001b[1G\u001b[A\u001b[2K\u001b[1G\u001b[A\u001b[2K\u001b[1G\u001b[A\u001b[2K\u001b[1G\u001b[A\u001b[2K\u001b[1Gpulling manifest \n",
      "pulling 797b70c4edf8... 100% ▕▏  45 MB                         \n",
      "pulling c71d239df917... 100% ▕▏  11 KB                         \n",
      "pulling 85011998c600... 100% ▕▏   16 B                         \n",
      "pulling 548455b72658... 100% ▕▏  407 B                         \u001b[?25h\u001b[?25l\u001b[2K\u001b[1G\u001b[A\u001b[2K\u001b[1G\u001b[A\u001b[2K\u001b[1G\u001b[A\u001b[2K\u001b[1G\u001b[A\u001b[2K\u001b[1Gpulling manifest \n",
      "pulling 797b70c4edf8... 100% ▕▏  45 MB                         \n",
      "pulling c71d239df917... 100% ▕▏  11 KB                         \n",
      "pulling 85011998c600... 100% ▕▏   16 B                         \n",
      "pulling 548455b72658... 100% ▕▏  407 B                         \u001b[?25h\u001b[?25l\u001b[2K\u001b[1G\u001b[A\u001b[2K\u001b[1G\u001b[A\u001b[2K\u001b[1G\u001b[A\u001b[2K\u001b[1G\u001b[A\u001b[2K\u001b[1Gpulling manifest \n",
      "pulling 797b70c4edf8... 100% ▕▏  45 MB                         \n",
      "pulling c71d239df917... 100% ▕▏  11 KB                         \n",
      "pulling 85011998c600... 100% ▕▏   16 B                         \n",
      "pulling 548455b72658... 100% ▕▏  407 B                         \u001b[?25h\u001b[?25l\u001b[2K\u001b[1G\u001b[A\u001b[2K\u001b[1G\u001b[A\u001b[2K\u001b[1G\u001b[A\u001b[2K\u001b[1G\u001b[A\u001b[2K\u001b[1Gpulling manifest \n",
      "pulling 797b70c4edf8... 100% ▕▏  45 MB                         \n",
      "pulling c71d239df917... 100% ▕▏  11 KB                         \n",
      "pulling 85011998c600... 100% ▕▏   16 B                         \n",
      "pulling 548455b72658... 100% ▕▏  407 B                         \u001b[?25h\u001b[?25l\u001b[2K\u001b[1G\u001b[A\u001b[2K\u001b[1G\u001b[A\u001b[2K\u001b[1G\u001b[A\u001b[2K\u001b[1G\u001b[A\u001b[2K\u001b[1Gpulling manifest \n",
      "pulling 797b70c4edf8... 100% ▕▏  45 MB                         \n",
      "pulling c71d239df917... 100% ▕▏  11 KB                         \n",
      "pulling 85011998c600... 100% ▕▏   16 B                         \n",
      "pulling 548455b72658... 100% ▕▏  407 B                         \u001b[?25h\u001b[?25l\u001b[2K\u001b[1G\u001b[A\u001b[2K\u001b[1G\u001b[A\u001b[2K\u001b[1G\u001b[A\u001b[2K\u001b[1G\u001b[A\u001b[2K\u001b[1Gpulling manifest \n",
      "pulling 797b70c4edf8... 100% ▕▏  45 MB                         \n",
      "pulling c71d239df917... 100% ▕▏  11 KB                         \n",
      "pulling 85011998c600... 100% ▕▏   16 B                         \n",
      "pulling 548455b72658... 100% ▕▏  407 B                         \n",
      "verifying sha256 digest ⠋ \u001b[?25h\u001b[?25l\u001b[2K\u001b[1G\u001b[A\u001b[2K\u001b[1G\u001b[A\u001b[2K\u001b[1G\u001b[A\u001b[2K\u001b[1G\u001b[A\u001b[2K\u001b[1G\u001b[A\u001b[2K\u001b[1Gpulling manifest \n",
      "pulling 797b70c4edf8... 100% ▕▏  45 MB                         \n",
      "pulling c71d239df917... 100% ▕▏  11 KB                         \n",
      "pulling 85011998c600... 100% ▕▏   16 B                         \n",
      "pulling 548455b72658... 100% ▕▏  407 B                         \n",
      "verifying sha256 digest \n",
      "writing manifest \n",
      "success \u001b[?25h\n"
     ]
    },
    {
     "name": "stderr",
     "output_type": "stream",
     "text": [
      "<ipython-input-16-e7e96a291798>:26: LangChainDeprecationWarning: Since Chroma 0.4.x the manual persistence method is no longer supported as docs are automatically persisted.\n",
      "  vectorstore.persist()\n"
     ]
    }
   ],
   "source": [
    "# Specify a persistent storage path for Chroma\n",
    "vectorstore_path = './all-minilm_vectorstore'  # Replace with your path\n",
    "\n",
    "# Create or load an existing Chroma vector store\n",
    "try:\n",
    "  vectorstore = Chroma.from_documents(\n",
    "    documents=split_documents,\n",
    "    embedding=embeddings_model,\n",
    "    persist_directory=vectorstore_path\n",
    "  )\n",
    "except:\n",
    "  #Installs Ollama\n",
    "  ! curl -fsSL https://ollama.com/install.sh | sh\n",
    "  # Runs Ollama service in the background\n",
    "  ! ollama serve &>/dev/null&\n",
    "  # Downloads the pre-trained model\n",
    "  ! ollama pull all-minilm\n",
    "\n",
    "  vectorstore = Chroma.from_documents(\n",
    "    documents=split_documents,\n",
    "    embedding=embeddings_model,\n",
    "    persist_directory=vectorstore_path\n",
    "  )\n",
    "\n",
    "# Saves the vector store to disk\n",
    "vectorstore.persist()"
   ]
  },
  {
   "cell_type": "code",
   "execution_count": 19,
   "metadata": {
    "colab": {
     "base_uri": "https://localhost:8080/"
    },
    "id": "tEENLUdSXcTU",
    "outputId": "b3819a98-5267-41a6-8b3d-0102d4608504"
   },
   "outputs": [
    {
     "name": "stdout",
     "output_type": "stream",
     "text": [
      "  adding: all-minilm_vectorstore/ (stored 0%)\n",
      "  adding: all-minilm_vectorstore/chroma.sqlite3 (deflated 76%)\n",
      "  adding: all-minilm_vectorstore/de96e232-1d31-4aa1-b558-f58db86ffe9e/ (stored 0%)\n",
      "  adding: all-minilm_vectorstore/de96e232-1d31-4aa1-b558-f58db86ffe9e/index_metadata.pickle (deflated 38%)\n",
      "  adding: all-minilm_vectorstore/de96e232-1d31-4aa1-b558-f58db86ffe9e/header.bin (deflated 56%)\n",
      "  adding: all-minilm_vectorstore/de96e232-1d31-4aa1-b558-f58db86ffe9e/data_level0.bin (deflated 12%)\n",
      "  adding: all-minilm_vectorstore/de96e232-1d31-4aa1-b558-f58db86ffe9e/link_lists.bin (deflated 87%)\n",
      "  adding: all-minilm_vectorstore/de96e232-1d31-4aa1-b558-f58db86ffe9e/length.bin (deflated 47%)\n"
     ]
    }
   ],
   "source": [
    "! zip vec.zip -r ./all-minilm_vectorstore/"
   ]
  },
  {
   "cell_type": "code",
   "execution_count": 20,
   "metadata": {
    "colab": {
     "base_uri": "https://localhost:8080/"
    },
    "id": "RP0FsRqAZgwn",
    "outputId": "470e2c22-29f8-40cd-850a-6b4a3c7b144b"
   },
   "outputs": [
    {
     "name": "stdout",
     "output_type": "stream",
     "text": [
      "all-minilm_vectorstore\tguías_texto  normas_texto  sample_data\tvec.zip\n"
     ]
    }
   ],
   "source": [
    "!ls"
   ]
  }
 ],
 "metadata": {
  "accelerator": "GPU",
  "colab": {
   "gpuType": "T4",
   "provenance": []
  },
  "kernelspec": {
   "display_name": "jupyter",
   "language": "python",
   "name": "python3"
  },
  "language_info": {
   "codemirror_mode": {
    "name": "ipython",
    "version": 3
   },
   "file_extension": ".py",
   "mimetype": "text/x-python",
   "name": "python",
   "nbconvert_exporter": "python",
   "pygments_lexer": "ipython3",
   "version": "3.11.2"
  }
 },
 "nbformat": 4,
 "nbformat_minor": 0
}
