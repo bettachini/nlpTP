{
  "cells": [
    {
      "cell_type": "code",
      "execution_count": null,
      "metadata": {
        "colab": {
          "base_uri": "https://localhost:8080/"
        },
        "id": "LFOUlFS5KY48",
        "outputId": "ee76936e-eb67-4592-8a98-7281e0f502af"
      },
      "outputs": [
        {
          "name": "stdout",
          "output_type": "stream",
          "text": [
            "Mounted at /content/drive\n"
          ]
        }
      ],
      "source": [
        "\n",
        "from google.colab import drive\n",
        "drive.mount('/content/drive')"
      ]
    },
    {
      "cell_type": "code",
      "execution_count": null,
      "metadata": {
        "id": "JbfeZI-hZQKT"
      },
      "outputs": [],
      "source": [
        "%%capture\n",
        "\n",
        "#En la consola ejecutaremos los siguientes comandos.\n",
        "\n",
        "!curl -fsSL https://ollama.com/install.sh | sh\n",
        "\n",
        "!nohup ollama serve >output.log 2>&1 &\n",
        "\n",
        "\n",
        "#!ollama serve &\n",
        "!ollama pull llama3\n",
        "!ollama pull all-minilm  #modelo para  el embedding\n",
        "\n",
        "!pip install langchain\n",
        "!pip install langchain-ollama\n",
        "!pip install langchain_community\n",
        "!pip install langchain_chroma\n",
        "!pip install langchainhub\n",
        "!pip install langsmith\n",
        "\n",
        "import os\n",
        "from langchain.document_loaders import TextLoader\n",
        "\n",
        "os.makedirs('/content/drive/MyDrive/NLP/normas_texto', exist_ok=True)\n",
        "\n",
        "!git clone https://github.com/bettachini/nlpTP.git\n",
        "!cp -r nlpTP/arn/normas_texto/* /content/drive/MyDrive/NLP/normas_texto/\n",
        "!ls /content/drive/MyDrive/NLP/normas_texto\n",
        "# Ruta de la carpeta en tu Google Drive que contiene los archivos .txt\n",
        "folder_path = '/content/drive/MyDrive/NLP/normas_texto'\n",
        "\n",
        "# documentos cargados\n",
        "docs = []\n",
        "for filename in os.listdir(folder_path):\n",
        "    if filename.endswith(\".txt\"):\n",
        "        file_path = os.path.join(folder_path, filename)\n",
        "        loader = TextLoader(file_path)  # TextLoader carga archivos de texto\n",
        "        docs.extend(loader.load())  # Cargar y agregar a la lista de documentos\n",
        "\n",
        "from langchain import hub\n",
        "from langchain.vectorstores import Chroma\n",
        "from langchain_community.document_loaders import PyPDFLoader\n",
        "from langchain_core.output_parsers import StrOutputParser\n",
        "from langchain_core.runnables import RunnablePassthrough\n",
        "from langchain_text_splitters import RecursiveCharacterTextSplitter\n",
        "from langchain_core.prompts.chat import ChatPromptTemplate\n",
        "from langchain_ollama import ChatOllama, OllamaEmbeddings\n",
        "\n",
        "llm = ChatOllama(\n",
        "                model = \"llama3\"\n",
        "                )\n",
        "emb = OllamaEmbeddings(model=\"all-minilm\")\n",
        "\n",
        "text_splitter = RecursiveCharacterTextSplitter(chunk_size=1000, chunk_overlap=200)\n",
        "splits = text_splitter.split_documents(docs)\n",
        "vectorstore = Chroma.from_documents(documents=splits, embedding=emb)\n",
        "\n",
        "retriever = vectorstore.as_retriever()"
      ]
    },
    {
      "cell_type": "code",
      "execution_count": null,
      "metadata": {
        "colab": {
          "base_uri": "https://localhost:8080/"
        },
        "id": "4CJbRYKwCLMf",
        "outputId": "f3cb060b-ef16-4cf6-a2bb-6079b2b57d47"
      },
      "outputs": [
        {
          "name": "stdout",
          "output_type": "stream",
          "text": [
            "Collecting rouge-score\n",
            "  Downloading rouge_score-0.1.2.tar.gz (17 kB)\n",
            "  Preparing metadata (setup.py) ... \u001b[?25l\u001b[?25hdone\n",
            "Collecting bert-score\n",
            "  Downloading bert_score-0.3.13-py3-none-any.whl.metadata (15 kB)\n",
            "Requirement already satisfied: absl-py in /usr/local/lib/python3.10/dist-packages (from rouge-score) (1.4.0)\n",
            "Requirement already satisfied: nltk in /usr/local/lib/python3.10/dist-packages (from rouge-score) (3.9.1)\n",
            "Requirement already satisfied: numpy in /usr/local/lib/python3.10/dist-packages (from rouge-score) (1.26.4)\n",
            "Requirement already satisfied: six>=1.14.0 in /usr/local/lib/python3.10/dist-packages (from rouge-score) (1.16.0)\n",
            "Requirement already satisfied: torch>=1.0.0 in /usr/local/lib/python3.10/dist-packages (from bert-score) (2.5.0+cu121)\n",
            "Requirement already satisfied: pandas>=1.0.1 in /usr/local/lib/python3.10/dist-packages (from bert-score) (2.2.2)\n",
            "Requirement already satisfied: transformers>=3.0.0 in /usr/local/lib/python3.10/dist-packages (from bert-score) (4.46.2)\n",
            "Requirement already satisfied: requests in /usr/local/lib/python3.10/dist-packages (from bert-score) (2.32.3)\n",
            "Requirement already satisfied: tqdm>=4.31.1 in /usr/local/lib/python3.10/dist-packages (from bert-score) (4.66.6)\n",
            "Requirement already satisfied: matplotlib in /usr/local/lib/python3.10/dist-packages (from bert-score) (3.8.0)\n",
            "Requirement already satisfied: packaging>=20.9 in /usr/local/lib/python3.10/dist-packages (from bert-score) (24.2)\n",
            "Requirement already satisfied: python-dateutil>=2.8.2 in /usr/local/lib/python3.10/dist-packages (from pandas>=1.0.1->bert-score) (2.8.2)\n",
            "Requirement already satisfied: pytz>=2020.1 in /usr/local/lib/python3.10/dist-packages (from pandas>=1.0.1->bert-score) (2024.2)\n",
            "Requirement already satisfied: tzdata>=2022.7 in /usr/local/lib/python3.10/dist-packages (from pandas>=1.0.1->bert-score) (2024.2)\n",
            "Requirement already satisfied: filelock in /usr/local/lib/python3.10/dist-packages (from torch>=1.0.0->bert-score) (3.16.1)\n",
            "Requirement already satisfied: typing-extensions>=4.8.0 in /usr/local/lib/python3.10/dist-packages (from torch>=1.0.0->bert-score) (4.12.2)\n",
            "Requirement already satisfied: networkx in /usr/local/lib/python3.10/dist-packages (from torch>=1.0.0->bert-score) (3.4.2)\n",
            "Requirement already satisfied: jinja2 in /usr/local/lib/python3.10/dist-packages (from torch>=1.0.0->bert-score) (3.1.4)\n",
            "Requirement already satisfied: fsspec in /usr/local/lib/python3.10/dist-packages (from torch>=1.0.0->bert-score) (2024.10.0)\n",
            "Requirement already satisfied: sympy==1.13.1 in /usr/local/lib/python3.10/dist-packages (from torch>=1.0.0->bert-score) (1.13.1)\n",
            "Requirement already satisfied: mpmath<1.4,>=1.1.0 in /usr/local/lib/python3.10/dist-packages (from sympy==1.13.1->torch>=1.0.0->bert-score) (1.3.0)\n",
            "Requirement already satisfied: huggingface-hub<1.0,>=0.23.2 in /usr/local/lib/python3.10/dist-packages (from transformers>=3.0.0->bert-score) (0.26.2)\n",
            "Requirement already satisfied: pyyaml>=5.1 in /usr/local/lib/python3.10/dist-packages (from transformers>=3.0.0->bert-score) (6.0.2)\n",
            "Requirement already satisfied: regex!=2019.12.17 in /usr/local/lib/python3.10/dist-packages (from transformers>=3.0.0->bert-score) (2024.9.11)\n",
            "Requirement already satisfied: safetensors>=0.4.1 in /usr/local/lib/python3.10/dist-packages (from transformers>=3.0.0->bert-score) (0.4.5)\n",
            "Requirement already satisfied: tokenizers<0.21,>=0.20 in /usr/local/lib/python3.10/dist-packages (from transformers>=3.0.0->bert-score) (0.20.3)\n",
            "Requirement already satisfied: contourpy>=1.0.1 in /usr/local/lib/python3.10/dist-packages (from matplotlib->bert-score) (1.3.0)\n",
            "Requirement already satisfied: cycler>=0.10 in /usr/local/lib/python3.10/dist-packages (from matplotlib->bert-score) (0.12.1)\n",
            "Requirement already satisfied: fonttools>=4.22.0 in /usr/local/lib/python3.10/dist-packages (from matplotlib->bert-score) (4.54.1)\n",
            "Requirement already satisfied: kiwisolver>=1.0.1 in /usr/local/lib/python3.10/dist-packages (from matplotlib->bert-score) (1.4.7)\n",
            "Requirement already satisfied: pillow>=6.2.0 in /usr/local/lib/python3.10/dist-packages (from matplotlib->bert-score) (11.0.0)\n",
            "Requirement already satisfied: pyparsing>=2.3.1 in /usr/local/lib/python3.10/dist-packages (from matplotlib->bert-score) (3.2.0)\n",
            "Requirement already satisfied: click in /usr/local/lib/python3.10/dist-packages (from nltk->rouge-score) (8.1.7)\n",
            "Requirement already satisfied: joblib in /usr/local/lib/python3.10/dist-packages (from nltk->rouge-score) (1.4.2)\n",
            "Requirement already satisfied: charset-normalizer<4,>=2 in /usr/local/lib/python3.10/dist-packages (from requests->bert-score) (3.4.0)\n",
            "Requirement already satisfied: idna<4,>=2.5 in /usr/local/lib/python3.10/dist-packages (from requests->bert-score) (3.10)\n",
            "Requirement already satisfied: urllib3<3,>=1.21.1 in /usr/local/lib/python3.10/dist-packages (from requests->bert-score) (2.2.3)\n",
            "Requirement already satisfied: certifi>=2017.4.17 in /usr/local/lib/python3.10/dist-packages (from requests->bert-score) (2024.8.30)\n",
            "Requirement already satisfied: MarkupSafe>=2.0 in /usr/local/lib/python3.10/dist-packages (from jinja2->torch>=1.0.0->bert-score) (3.0.2)\n",
            "Downloading bert_score-0.3.13-py3-none-any.whl (61 kB)\n",
            "\u001b[2K   \u001b[90m━━━━━━━━━━━━━━━━━━━━━━━━━━━━━━━━━━━━━━━━\u001b[0m \u001b[32m61.1/61.1 kB\u001b[0m \u001b[31m2.9 MB/s\u001b[0m eta \u001b[36m0:00:00\u001b[0m\n",
            "\u001b[?25hBuilding wheels for collected packages: rouge-score\n",
            "  Building wheel for rouge-score (setup.py) ... \u001b[?25l\u001b[?25hdone\n",
            "  Created wheel for rouge-score: filename=rouge_score-0.1.2-py3-none-any.whl size=24935 sha256=874b41d1f628dcbac938862406ee1bc9557f8def51223d3c26519edaacea4b8b\n",
            "  Stored in directory: /root/.cache/pip/wheels/5f/dd/89/461065a73be61a532ff8599a28e9beef17985c9e9c31e541b4\n",
            "Successfully built rouge-score\n",
            "Installing collected packages: rouge-score, bert-score\n",
            "Successfully installed bert-score-0.3.13 rouge-score-0.1.2\n"
          ]
        }
      ],
      "source": [
        "template = \"\"\"\n",
        "            Sos un experto en seguridad nuclear  dispuesto a responder preguntas sobre las normas y guias emitidas por la Autoridad Regulatoria Nuclear de Argentina.Tu tarea es responder la pregunta provista abajo.\n",
        "\n",
        "            Tambien se proveen una serie de documentos que un retrieval engine considero mas similares a la pregunta.\n",
        "\n",
        "            Provees respuestas concisas siguiendo la lógica \"pensemos paso a paso\" y la siguente estructura, donde DOCUMENTOS es una lista de documentos reglamentarios a partir de los cuales se elabora la respuesta:\n",
        "\n",
        "            Pregunta:\n",
        "            {query}\n",
        "\n",
        "            Respuesta:\n",
        "\n",
        "            DOCUMENTOS:\n",
        "            {docs}\n",
        "\n",
        "            \"\"\"\n",
        "#hay que agregar metadata\n",
        "prompt = ChatPromptTemplate.from_template(template)\n",
        "\n",
        "def format_docs(docs):\n",
        "    return \"\\n\\n\".join(doc.page_content for doc in docs)\n",
        "\n",
        "rag_chain = (\n",
        "    {\n",
        "        \"docs\": retriever | format_docs,\n",
        "        \"query\": RunnablePassthrough()\n",
        "    }\n",
        "    | prompt\n",
        "    | llm\n",
        "    | StrOutputParser()\n",
        ")\n",
        "\n",
        "!pip install rouge-score bert-score\n",
        "from bert_score import score\n",
        "\n",
        "from rouge_score import rouge_scorer"
      ]
    },
    {
      "cell_type": "markdown",
      "metadata": {
        "id": "FcPVEuV-_L8Q"
      },
      "source": [
        "# Measuring answer similarity\n",
        "\n",
        "medidas posibles\n",
        "\n",
        "BLEU (Bilingual Evaluation Understudy)\n",
        "ROUGE (Recall-Oriented Understudy for Gisting Evaluation)\n",
        "METEOR\n",
        "BERTScore"
      ]
    },
    {
      "cell_type": "markdown",
      "metadata": {
        "id": "r1mMnzzYiUvQ"
      },
      "source": [
        "Bloque para obtener preguntas, pasarlas al modelo, comparar las métricas y guardar en la hoja de cálculo\n",
        "\n",
        "https://docs.google.com/spreadsheets/d/1ZxNovjFeHOc6vBhhdg6K49TpQd00Y9IiSu_A1pawrys/edit?usp=sharing"
      ]
    },
    {
      "cell_type": "code",
      "execution_count": null,
      "metadata": {
        "id": "6FAOw-MqiT1B"
      },
      "outputs": [],
      "source": [
        "from google.colab import auth\n",
        "auth.authenticate_user()\n",
        "\n",
        "import gspread\n",
        "from google.auth import default\n",
        "creds, _ = default()\n",
        "\n",
        "gc = gspread.authorize(creds)\n",
        "\n",
        "# Abrir por titulo\n",
        "sh = gc.open(\"GoldStandardGPT4\")\n",
        "\n",
        "# Seleccionar primera hoja\n",
        "worksheet = sh.sheet1\n",
        "\n"
      ]
    },
    {
      "cell_type": "code",
      "execution_count": null,
      "metadata": {
        "colab": {
          "base_uri": "https://localhost:8080/",
          "height": 35
        },
        "id": "Zw2fQ3-7lyzy",
        "outputId": "4b5db35d-94e6-4ff4-b2cb-c55b1fb2a657"
      },
      "outputs": [
        {
          "data": {
            "application/vnd.google.colaboratory.intrinsic+json": {
              "type": "string"
            },
            "text/plain": [
              "'Pregunta'"
            ]
          },
          "execution_count": 5,
          "metadata": {},
          "output_type": "execute_result"
        }
      ],
      "source": [
        "worksheet.acell(\"B1\").value"
      ]
    },
    {
      "cell_type": "code",
      "execution_count": null,
      "metadata": {
        "id": "CE2zExAH_Kre"
      },
      "outputs": [],
      "source": [
        "n=17\n",
        "data_available=[]\n",
        "for n in range(1,n+1):\n",
        "  document=worksheet.acell(f\"A{n+2}\")\n",
        "  question = worksheet.acell(f'B{n+2}').value\n",
        "  gs_answer = val = worksheet.acell(f'C{n+2}').value\n",
        "  data_available.append({\"question\":question,\"gs_answer\":gs_answer})\n"
      ]
    },
    {
      "cell_type": "code",
      "execution_count": null,
      "metadata": {
        "colab": {
          "base_uri": "https://localhost:8080/"
        },
        "id": "L1oY6eKXMA76",
        "outputId": "52fdbdc1-7c91-4feb-dcb2-c4a67fdb5c21"
      },
      "outputs": [
        {
          "data": {
            "text/plain": [
              "[{'question': '¿Cuáles son los estudios previos que deben realizarse para determinar la viabilidad de una nueva planta nuclear en un sitio específico?',\n",
              "  'gs_answer': 'Pregunta: ¿Cuáles son los estudios previos que deben realizarse para determinar la viabilidad de una nueva planta nuclear en un sitio específico? Respuesta: Antes de la construcción, se deben realizar estudios geológicos, hidrológicos, meteorológicos y de impacto ambiental para evaluar la seguridad y la sostenibilidad del sitio. También es necesario analizar el impacto radiológico en el área circundante.\\nDocumentos relacionados: “Norma de Evaluación de Impacto Ambiental para Instalaciones Nucleares” (ARN 3.2).'},\n",
              " {'question': '¿Qué requisitos de calificación deben cumplir los operadores de una planta nuclear?',\n",
              "  'gs_answer': 'Pregunta: ¿Qué requisitos de calificación deben cumplir los operadores de una planta nuclear? Respuesta: Los operadores deben tener una formación específica en ingeniería nuclear, física o un campo relacionado, además de una capacitación intensiva sobre el funcionamiento del reactor y protocolos de seguridad. La ARN exige certificaciones y licencias específicas para que el personal pueda operar el reactor.\\nDocumentos relacionados: “Norma de Calificación y Certificación del Personal Operativo en Instalaciones Nucleares” (ARN 4.1).'},\n",
              " {'question': '¿Qué tipo de entrenamiento deben tener los técnicos de una planta nuclear?',\n",
              "  'gs_answer': 'Pregunta: ¿Qué tipo de entrenamiento deben tener los técnicos de una planta nuclear? Respuesta: Los técnicos deben pasar por un entrenamiento teórico y práctico que incluye simulación de operaciones, manejo de emergencias y protocolos de respuesta ante incidentes. La ARN realiza exámenes de competencia para certificar que el personal técnico esté cualificado para sus roles específicos.\\nDocumentos relacionados: “Reglamento de Entrenamiento y Capacitación de Personal en Seguridad Nuclear” (ARN 4.2).'},\n",
              " {'question': '¿Cuánto tiempo es válida la certificación de un operador nuclear y cuándo debe renovarse?',\n",
              "  'gs_answer': 'Pregunta: ¿Cuánto tiempo es válida la certificación de un operador nuclear y cuándo debe renovarse? Respuesta: Las certificaciones de los operadores suelen tener una validez de cinco años. Pasado este tiempo, deben renovarse mediante pruebas adicionales y la demostración de competencia continua, según las directrices de la ARN.\\nDocumentos relacionados: “Norma de Revalidación y Mantenimiento de Certificaciones para Personal de Seguridad Nuclear” (ARN 4.3).'},\n",
              " {'question': '¿Qué requisitos específicos de certificación deben cumplir los encargados de seguridad radiológica?',\n",
              "  'gs_answer': 'Pregunta: ¿Qué requisitos específicos de certificación deben cumplir los encargados de seguridad radiológica? Respuesta: Los encargados de seguridad radiológica deben tener una certificación en protección radiológica otorgada por un organismo reconocido, además de cumplir con cursos de actualización periódicos en técnicas de control radiológico y primeros auxilios en caso de exposición.\\nDocumentos relacionados: “Reglamento para la Certificación en Protección Radiológica” (ARN 5.1).'},\n",
              " {'question': '¿Qué auditorías realiza la ARN para asegurar el cumplimiento de la normativa en plantas nucleares?',\n",
              "  'gs_answer': 'Pregunta: ¿Qué auditorías realiza la ARN para asegurar el cumplimiento de la normativa en plantas nucleares? Respuesta: La ARN realiza auditorías periódicas y sorpresivas para verificar que las instalaciones cumplen con los estándares de seguridad, el estado de los equipos y la capacitación del personal. Estas auditorías incluyen inspecciones de la infraestructura, simulaciones de emergencia y revisión de la documentación de seguridad.\\nDocumentos relacionados: “Norma de Inspección y Auditoría de Instalaciones Nucleares” (ARN 6.1).'},\n",
              " {'question': '¿Cuáles son las normativas sobre la distancia mínima entre una planta nuclear y la población más cercana?',\n",
              "  'gs_answer': 'Pregunta: ¿Cuáles son las normativas sobre la distancia mínima entre una planta nuclear y la población más cercana? Respuesta: La normativa exige una “zona de exclusión” alrededor de la planta, donde no debe haber residentes permanentes. Esta distancia mínima varía según el tamaño de la planta y el tipo de reactor, y debe permitir tiempo suficiente para evacuar áreas circundantes en caso de emergencia.\\nDocumentos relacionados: “Norma Básica de Ubicación para Instalaciones Nucleares” (ARN 3.1.3).'},\n",
              " {'question': '¿Qué sucede si un miembro del personal no cumple con los requisitos de certificación exigidos?',\n",
              "  'gs_answer': 'Pregunta: ¿Qué sucede si un miembro del personal no cumple con los requisitos de certificación exigidos? Respuesta: El personal que no cumple con los requisitos de certificación no puede participar en actividades relacionadas con el reactor o la seguridad nuclear. La ARN podría sancionar a la planta nuclear si se permite que personal no certificado realice tareas críticas.\\nDocumentos relacionados: “Reglamento de Competencias y Certificación para Personal de Seguridad Nuclear” (ARN 4.4).'},\n",
              " {'question': '¿Cuáles son los protocolos para el almacenamiento y transporte de materiales radiactivos en Argentina?',\n",
              "  'gs_answer': 'Pregunta: ¿Cuáles son los protocolos para el almacenamiento y transporte de materiales radiactivos en Argentina? Respuesta: El almacenamiento de materiales radiactivos debe hacerse en contenedores especializados con varias capas de protección, ubicados en áreas de almacenamiento aprobadas y monitoreadas. Para el transporte, se deben utilizar vehículos autorizados y cumplir con una serie de medidas de seguridad específicas para evitar fugas o exposición accidental.\\nDocumentos relacionados: “Reglamento de Transporte Seguro de Materiales Radiactivos” (ARN 7.1).'},\n",
              " {'question': '¿Qué requisitos deben cumplir los consultores externos que asesoran en seguridad nuclear?',\n",
              "  'gs_answer': 'Pregunta: ¿Qué requisitos deben cumplir los consultores externos que asesoran en seguridad nuclear? Respuesta: Los consultores deben contar con una certificación en seguridad nuclear reconocida y experiencia relevante en el sector. Además, deben registrarse ante la ARN y seguir un código de conducta específico para los asesores en temas nucleares.\\nDocumentos relacionados: “Norma para Asesores y Consultores en Seguridad Nuclear” (ARN 4.5).'},\n",
              " {'question': '¿Existen requisitos de certificación para el personal encargado de la gestión de residuos radiactivos?',\n",
              "  'gs_answer': 'Pregunta: ¿Existen requisitos de certificación para el personal encargado de la gestión de residuos radiactivos? Respuesta: Sí, el personal a cargo de la gestión de residuos radiactivos debe estar certificado en manejo seguro de materiales radiactivos y conocer los protocolos de almacenamiento, transporte y disposición final de estos residuos. La ARN exige que este personal actualice sus certificaciones periódicamente.\\nDocumentos relacionados: “Norma de Gestión Segura de Desechos Radiactivos” (ARN 8.1).'},\n",
              " {'question': '¿Qué tipo de equipo de protección es obligatorio para el personal que trabaja directamente con materiales radiactivos?',\n",
              "  'gs_answer': 'Pregunta: Respuesta: El personal debe usar trajes protectores, guantes, y máscaras diseñados para bloquear la radiación. También se les asignan dosímetros individuales para monitorear la exposición a la radiación y asegurar que no excedan los límites permitidos.\\nDocumentos relacionados: “Normas de Protección Radiológica para Personal Ocupacionalmente Expuesto” (ARN 5.2).'},\n",
              " {'question': '¿Cuáles son los requisitos de certificación para quienes realizan el mantenimiento de un reactor nuclear?',\n",
              "  'gs_answer': 'Pregunta: ¿Cuáles son los requisitos de certificación para quienes realizan el mantenimiento de un reactor nuclear? Respuesta: Los encargados de mantenimiento deben estar certificados en sistemas de reactor y técnicas de control de radiación, además de recibir entrenamiento específico sobre la planta en la que trabajan. La ARN exige que todo el personal de mantenimiento sea evaluado periódicamente.\\nDocumentos relacionados: “Reglamento de Mantenimiento y Operación de Reactores Nucleares” (ARN 4.6).'},\n",
              " {'question': '¿Qué sucede si se detecta una fuga de radiación en una planta nuclear?',\n",
              "  'gs_answer': 'Pregunta: ¿Qué sucede si se detecta una fuga de radiación en una planta nuclear? Respuesta: Ante una fuga de radiación, se debe activar el protocolo de emergencia de inmediato. Esto incluye la evacuación de áreas cercanas, el uso de equipo de protección, y la notificación inmediata a la ARN para que coordine una respuesta y evalúe las medidas de contención necesarias.\\nDocumentos relacionados: “Plan de Emergencia Nuclear” (ARN 9.1).'},\n",
              " {'question': '¿Qué estudios médicos debe realizarse el personal que trabaja en instalaciones nucleares?',\n",
              "  'gs_answer': 'Pregunta: ¿Qué estudios médicos debe realizarse el personal que trabaja en instalaciones nucleares? Respuesta: Todo el personal debe realizarse exámenes médicos periódicos, incluyendo análisis de sangre y monitoreos de exposición a la radiación, para detectar cualquier efecto a largo plazo por exposición radiológica.\\nDocumentos relacionados: “Normativa de Monitoreo de Salud para Personal Expuesto a Radiación” (ARN 5.3).'},\n",
              " {'question': '¿Existen requisitos para la formación continua del personal que trabaja en seguridad nuclear?',\n",
              "  'gs_answer': 'Pregunta: ¿Existen requisitos para la formación continua del personal que trabaja en seguridad nuclear? Respuesta: Sí, la ARN exige que el personal participe en programas de formación continua para actualizarse en nuevos protocolos de seguridad, tecnologías y normativas. Esto es especialmente importante para el personal de operaciones y seguridad radiológica.\\nDocumentos relacionados: “Reglamento de Capacitación Continua en Seguridad Nuclear” (ARN 4.7).'},\n",
              " {'question': '¿Qué documentación debe mantenerse al día en una planta nuclear?',\n",
              "  'gs_answer': 'Pregunta: ¿Qué documentación debe mantenerse al día en una planta nuclear? Respuesta: Las plantas deben mantener al día toda la documentación relativa al análisis de seguridad, los informes de incidentes, el historial de mantenimiento de los equipos, y los registros de exposición a la radiación del personal. Esta documentación debe estar disponible para las auditorías de la ARN.\\nDocumentos relacionados: “Normativa de Documentación y Registro en Instalaciones Nucleares” (ARN 10.1).'}]"
            ]
          },
          "execution_count": 22,
          "metadata": {},
          "output_type": "execute_result"
        }
      ],
      "source": [
        "data_available"
      ]
    },
    {
      "cell_type": "code",
      "execution_count": null,
      "metadata": {
        "id": "ojK2OQ3P_Kug"
      },
      "outputs": [],
      "source": [
        "scorer = rouge_scorer.RougeScorer(['rouge1', 'rouge2', 'rougeL'], use_stemmer=True)\n",
        "\n",
        "def generate_using_new_template(exp_number):\n",
        "  important_info=[]\n",
        "  important_info.append([\"Pregunta\",\"GoldStandard\",\"Respuesta\",\"BertSCORE_P\",\"BertSCORE_R\",\"BertSCORE_F1\",\"ROUGE1\",\"ROUGE2\",\"ROUGEL\"])\n",
        "  for n,q in enumerate(data_available):\n",
        "      #Bertscore\n",
        "      current_answer=rag_chain.invoke(q[\"question\"])\n",
        "      gs_answer=q[\"gs_answer\"]\n",
        "      print(f\"Pregunta {n}\")\n",
        "      P, R, F1 = score([current_answer], [gs_answer], lang=\"es\")\n",
        "      #rouge\n",
        "      scores = scorer.score(current_answer, gs_answer)\n",
        "\n",
        "      important_info.append([q[\"question\"],q[\"gs_answer\"],current_answer,str(P.item()),str(R.item()),str(F1.item()),str(scores['rouge1']),str(scores['rouge2']),str(scores['rougeL'])])\n",
        "\n",
        "  with open(f'/content/drive/MyDrive/NLP/results/results_experiment_{exp_number}.txt', 'w') as f:\n",
        "    for line in important_info:\n",
        "        linestr=[str(i) for i in line]\n",
        "        linea=\";\".join(linestr)\n",
        "        f.write(f\"{linea}\\n\")\n",
        "\n"
      ]
    },
    {
      "cell_type": "markdown",
      "metadata": {
        "id": "H3s3rb8ctJII"
      },
      "source": [
        "#Acá modificamos:\n",
        "Cambiamos el template a gusto y piacere"
      ]
    },
    {
      "cell_type": "code",
      "execution_count": null,
      "metadata": {
        "id": "3rYYK37btI7X"
      },
      "outputs": [],
      "source": [
        "template = \"\"\"\n",
        "            Sos un experto en seguridad nuclear  dispuesto a responder preguntas sobre las normas y guias emitidas por la Autoridad Regulatoria Nuclear de Argentina.Tu tarea es responder la pregunta provista abajo.\n",
        "\n",
        "            Tambien se proveen una serie de documentos que un retrieval engine considero mas similares a la pregunta.\n",
        "\n",
        "            Provees respuestas concisas siguiendo la lógica \"pensemos paso a paso\" y la siguente estructura, donde DOCUMENTOS es una lista de documentos reglamentarios a partir de los cuales se elabora la respuesta:\n",
        "\n",
        "            Pregunta:\n",
        "            {query}\n",
        "\n",
        "            Respuesta:\n",
        "\n",
        "            DOCUMENTOS:\n",
        "            {docs}\n",
        "\n",
        "            \"\"\"\n",
        "#hay que agregar metadata\n",
        "prompt = ChatPromptTemplate.from_template(template)\n",
        "\n",
        "def format_docs(docs):\n",
        "    return \"\\n\\n\".join(doc.page_content for doc in docs)\n",
        "\n",
        "rag_chain = (\n",
        "    {\n",
        "        \"docs\": retriever | format_docs,\n",
        "        \"query\": RunnablePassthrough()\n",
        "    }\n",
        "    | prompt\n",
        "    | llm\n",
        "    | StrOutputParser()\n",
        ")"
      ]
    },
    {
      "cell_type": "markdown",
      "metadata": {
        "id": "QusOwtcytPX3"
      },
      "source": [
        "## Llamado a la función que genera el experimento"
      ]
    },
    {
      "cell_type": "code",
      "execution_count": null,
      "metadata": {
        "colab": {
          "base_uri": "https://localhost:8080/"
        },
        "id": "jWTG86P7tPIK",
        "outputId": "8d2f2838-52fb-4589-cc27-d68a2b9991c5"
      },
      "outputs": [
        {
          "name": "stdout",
          "output_type": "stream",
          "text": [
            "Pregunta 0\n",
            "Pregunta 1\n",
            "Pregunta 2\n",
            "Pregunta 3\n",
            "Pregunta 4\n",
            "Pregunta 5\n",
            "Pregunta 6\n",
            "Pregunta 7\n",
            "Pregunta 8\n",
            "Pregunta 9\n",
            "Pregunta 10\n",
            "Pregunta 11\n",
            "Pregunta 12\n",
            "Pregunta 13\n",
            "Pregunta 14\n",
            "Pregunta 15\n",
            "Pregunta 16\n"
          ]
        }
      ],
      "source": [
        "generate_using_new_template(exp_number=2)"
      ]
    },
    {
      "cell_type": "markdown",
      "metadata": {
        "id": "F6ikDnviOd9s"
      },
      "source": [
        "Vamos a probar algo que de peor?"
      ]
    },
    {
      "cell_type": "code",
      "execution_count": null,
      "metadata": {
        "id": "mG0AwdQdOds7"
      },
      "outputs": [],
      "source": [
        "template = \"\"\"\n",
        "            Sos un fanático del rock nacional argentino.Tu tarea es responder la pregunta provista abajo utilizando los\n",
        "            documentos que un retrieval engine considero mas similares a la pregunta.\n",
        "\n",
        "            Provees respuestas concisas siguiendo la lógica \"pensemos paso a paso\" y la siguente estructura, donde DOCUMENTOS es una lista de documentos reglamentarios a partir de los cuales se elabora la respuesta:\n",
        "\n",
        "            Pregunta:\n",
        "            {query}\n",
        "\n",
        "            Respuesta:\n",
        "\n",
        "            DOCUMENTOS:\n",
        "            {docs}\n",
        "\n",
        "            \"\"\"\n",
        "#hay que agregar metadata\n",
        "prompt = ChatPromptTemplate.from_template(template)\n",
        "\n",
        "def format_docs(docs):\n",
        "    return \"\\n\\n\".join(doc.page_content for doc in docs)\n",
        "\n",
        "rag_chain = (\n",
        "    {\n",
        "        \"docs\": retriever | format_docs,\n",
        "        \"query\": RunnablePassthrough()\n",
        "    }\n",
        "    | prompt\n",
        "    | llm\n",
        "    | StrOutputParser()\n",
        ")"
      ]
    },
    {
      "cell_type": "code",
      "execution_count": null,
      "metadata": {
        "colab": {
          "background_save": true
        },
        "id": "c1ZlxKtkS9d2",
        "outputId": "c4468a14-72ae-48b1-81b2-a645b9f8a681"
      },
      "outputs": [
        {
          "name": "stdout",
          "output_type": "stream",
          "text": [
            "Pregunta 0\n",
            "Pregunta 1\n",
            "Pregunta 2\n",
            "Pregunta 3\n",
            "Pregunta 4\n",
            "Pregunta 5\n",
            "Pregunta 6\n",
            "Pregunta 7\n",
            "Pregunta 8\n",
            "Pregunta 9\n",
            "Pregunta 10\n",
            "Pregunta 11\n",
            "Pregunta 12\n",
            "Pregunta 13\n",
            "Pregunta 14\n",
            "Pregunta 15\n",
            "Pregunta 16\n"
          ]
        }
      ],
      "source": [
        "generate_using_new_template(exp_number=3)"
      ]
    }
  ],
  "metadata": {
    "accelerator": "GPU",
    "colab": {
      "gpuType": "T4",
      "provenance": []
    },
    "kernelspec": {
      "display_name": "Python 3",
      "name": "python3"
    },
    "language_info": {
      "name": "python"
    }
  },
  "nbformat": 4,
  "nbformat_minor": 0
}