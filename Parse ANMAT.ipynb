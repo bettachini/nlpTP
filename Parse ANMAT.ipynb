{
 "cells": [
  {
   "cell_type": "code",
   "execution_count": null,
   "id": "55904b40",
   "metadata": {},
   "outputs": [],
   "source": [
    "from selenium import webdriver\n",
    "from selenium.webdriver.common.by import By\n",
    "import time\n",
    "import requests"
   ]
  },
  {
   "cell_type": "code",
   "execution_count": null,
   "id": "1b590009",
   "metadata": {},
   "outputs": [],
   "source": [
    "#una pajina dinamica, entonces Selenium\n",
    "driver = webdriver.Chrome()\n",
    "driver.get(\"https://www.argentina.gob.ar/anmat/normativa-general\")\n",
    "\n",
    "pdf_links = []\n",
    "\n",
    "for i in range(36):\n",
    "    time.sleep(5)\n",
    "    \n",
    "    #guardar botones\n",
    "    buttons = driver.find_elements(By.CLASS_NAME, 'btn.btn-primary.btn-sm.margin-btn')\n",
    "    pdf_links.extend([button.get_attribute('href') for button in buttons])\n",
    "    \n",
    "    #la pajina siguente\n",
    "    next_button = driver.find_element(By.XPATH, '//a[@aria-label=\"Ir a la página siguiente\"]')\n",
    "    \n",
    "    #no hay mas pajinas\n",
    "    #if 'disabled' in next_button.get_attribute('class'):\n",
    "    #    break\n",
    "    \n",
    "    next_button.click()\n",
    "\n",
    "driver.quit()"
   ]
  },
  {
   "cell_type": "code",
   "execution_count": null,
   "id": "4b2c16ee",
   "metadata": {},
   "outputs": [],
   "source": [
    "len(pdf_links)"
   ]
  },
  {
   "cell_type": "code",
   "execution_count": null,
   "id": "727787d2",
   "metadata": {},
   "outputs": [],
   "source": [
    "os.makedirs('anmat', exist_ok=True)"
   ]
  },
  {
   "cell_type": "code",
   "execution_count": null,
   "id": "c6139850",
   "metadata": {},
   "outputs": [],
   "source": [
    "#descargar pdf\n",
    "for pdf_link in pdf_links:\n",
    "    if '.pdf' in pdf_link:\n",
    "        pdf_response = requests.get(pdf_link)\n",
    "        file_name = os.path.join('anmat', pdf_link.split(\"/\")[-1] + '.pdf')\n",
    "        with open(file_name, 'wb') as file:\n",
    "            file.write(pdf_response.content)\n",
    "        print(f\"{file_name}\")"
   ]
  },
  {
   "cell_type": "code",
   "execution_count": null,
   "id": "3ea95406",
   "metadata": {},
   "outputs": [],
   "source": [
    "#descargar texto\n",
    "for non_pdf_link in pdf_links:\n",
    "    if '.pdf' not in non_pdf_link:\n",
    "        response = requests.get(non_pdf_link+'/texto')\n",
    "        file_name = os.path.join('anmat', non_pdf_link.split(\"/\")[-1] + '.txt')\n",
    "        with open(file_name, 'wb') as file:\n",
    "            file.write(response.content)\n",
    "        print(f\"{file_name}\")"
   ]
  }
 ],
 "metadata": {
  "kernelspec": {
   "display_name": "Python 3 (ipykernel)",
   "language": "python",
   "name": "python3"
  },
  "language_info": {
   "codemirror_mode": {
    "name": "ipython",
    "version": 3
   },
   "file_extension": ".py",
   "mimetype": "text/x-python",
   "name": "python",
   "nbconvert_exporter": "python",
   "pygments_lexer": "ipython3",
   "version": "3.11.4"
  }
 },
 "nbformat": 4,
 "nbformat_minor": 5
}
