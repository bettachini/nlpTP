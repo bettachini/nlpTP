{
 "cells": [
  {
   "cell_type": "markdown",
   "id": "a6767a43",
   "metadata": {},
   "source": [
    "## Bibliotecas"
   ]
  },
  {
   "cell_type": "code",
   "execution_count": null,
   "id": "8e1bba92",
   "metadata": {},
   "outputs": [
    {
     "name": "stdout",
     "output_type": "stream",
     "text": [
      "Collecting selenium\n",
      "  Downloading selenium-4.24.0-py3-none-any.whl.metadata (7.1 kB)\n",
      "Requirement already satisfied: urllib3<3,>=1.26 in /home/vbettachini/bin/jupyter/lib/python3.11/site-packages (from urllib3[socks]<3,>=1.26->selenium) (2.2.2)\n",
      "Collecting trio~=0.17 (from selenium)\n",
      "  Downloading trio-0.26.2-py3-none-any.whl.metadata (8.6 kB)\n",
      "Collecting trio-websocket~=0.9 (from selenium)\n",
      "  Downloading trio_websocket-0.11.1-py3-none-any.whl.metadata (4.7 kB)\n",
      "Requirement already satisfied: certifi>=2021.10.8 in /home/vbettachini/bin/jupyter/lib/python3.11/site-packages (from selenium) (2024.8.30)\n",
      "Requirement already satisfied: typing_extensions~=4.9 in /home/vbettachini/bin/jupyter/lib/python3.11/site-packages (from selenium) (4.12.2)\n",
      "Requirement already satisfied: websocket-client~=1.8 in /home/vbettachini/bin/jupyter/lib/python3.11/site-packages (from selenium) (1.8.0)\n",
      "Requirement already satisfied: attrs>=23.2.0 in /home/vbettachini/bin/jupyter/lib/python3.11/site-packages (from trio~=0.17->selenium) (24.2.0)\n",
      "Collecting sortedcontainers (from trio~=0.17->selenium)\n",
      "  Downloading sortedcontainers-2.4.0-py2.py3-none-any.whl.metadata (10 kB)\n",
      "Requirement already satisfied: idna in /home/vbettachini/bin/jupyter/lib/python3.11/site-packages (from trio~=0.17->selenium) (3.8)\n",
      "Collecting outcome (from trio~=0.17->selenium)\n",
      "  Downloading outcome-1.3.0.post0-py2.py3-none-any.whl.metadata (2.6 kB)\n",
      "Requirement already satisfied: sniffio>=1.3.0 in /home/vbettachini/bin/jupyter/lib/python3.11/site-packages (from trio~=0.17->selenium) (1.3.1)\n",
      "Collecting wsproto>=0.14 (from trio-websocket~=0.9->selenium)\n",
      "  Downloading wsproto-1.2.0-py3-none-any.whl.metadata (5.6 kB)\n",
      "Collecting pysocks!=1.5.7,<2.0,>=1.5.6 (from urllib3[socks]<3,>=1.26->selenium)\n",
      "  Downloading PySocks-1.7.1-py3-none-any.whl.metadata (13 kB)\n",
      "Requirement already satisfied: h11<1,>=0.9.0 in /home/vbettachini/bin/jupyter/lib/python3.11/site-packages (from wsproto>=0.14->trio-websocket~=0.9->selenium) (0.14.0)\n",
      "Downloading selenium-4.24.0-py3-none-any.whl (9.6 MB)\n",
      "\u001b[2K   \u001b[38;2;114;156;31m━━━━━━━━━━━━━━━━━━━━━━━━━━━━━━━━━━━━━━━━\u001b[0m \u001b[32m9.6/9.6 MB\u001b[0m \u001b[31m4.2 MB/s\u001b[0m eta \u001b[36m0:00:00\u001b[0m MB/s\u001b[0m eta \u001b[36m0:00:01\u001b[0m:01\u001b[0m\n",
      "\u001b[?25hDownloading trio-0.26.2-py3-none-any.whl (475 kB)\n",
      "Downloading trio_websocket-0.11.1-py3-none-any.whl (17 kB)\n",
      "Downloading PySocks-1.7.1-py3-none-any.whl (16 kB)\n",
      "Downloading wsproto-1.2.0-py3-none-any.whl (24 kB)\n",
      "Downloading outcome-1.3.0.post0-py2.py3-none-any.whl (10 kB)\n",
      "Downloading sortedcontainers-2.4.0-py2.py3-none-any.whl (29 kB)\n",
      "Installing collected packages: sortedcontainers, wsproto, pysocks, outcome, trio, trio-websocket, selenium\n",
      "Successfully installed outcome-1.3.0.post0 pysocks-1.7.1 selenium-4.24.0 sortedcontainers-2.4.0 trio-0.26.2 trio-websocket-0.11.1 wsproto-1.2.0\n"
     ]
    }
   ],
   "source": [
    "try:\n",
    "\tfrom selenium import webdriver\n",
    "except:\n",
    "\t!pip install selenium\n",
    "\tfrom selenium import webdriver\n",
    "# from selenium import webdriver\n",
    "from selenium.webdriver.common.by import By\n",
    "import time\n",
    "import requests"
   ]
  },
  {
   "cell_type": "markdown",
   "id": "9d3ab640",
   "metadata": {},
   "source": [
    "## Descarga de normativa general\n",
    "No se trata solo de PDFs, también hay textos planos publicados en HTML:\n",
    "\n",
    "PDFs, raíces de nombres de archivos:\n",
    "- circular_\n",
    "- anmat_circular_\n",
    "- anmat_disposicion_\n",
    "\n",
    "Textos planos en HTML, _ídem._\n",
    "- circular-\n",
    "- decreto-\n",
    "- disposici%C3%B3n-"
   ]
  },
  {
   "cell_type": "code",
   "execution_count": 2,
   "id": "1b590009",
   "metadata": {},
   "outputs": [],
   "source": [
    "# es una pagina dinámica, entonces utilizamos Selenium\n",
    "driver = webdriver.Chrome()\n",
    "driver.get(\"https://www.argentina.gob.ar/anmat/normativa-general\")\n",
    "\n",
    "enlacesArchivos = []\n",
    "\n",
    "for i in range(36):\n",
    "    time.sleep(5)\n",
    "    \n",
    "    #guardar botones\n",
    "    buttons = driver.find_elements(By.CLASS_NAME, 'btn.btn-primary.btn-sm.margin-btn')\n",
    "    enlacesArchivos.extend([button.get_attribute('href') for button in buttons])\n",
    "    \n",
    "    #la pagina siguente\n",
    "    next_button = driver.find_element(By.XPATH, '//a[@aria-label=\"Ir a la página siguiente\"]')\n",
    "    \n",
    "    #no hay mas paginas\n",
    "    #if 'disabled' in next_button.get_attribute('class'):\n",
    "    #    break\n",
    "    \n",
    "    next_button.click()\n",
    "\n",
    "driver.quit()"
   ]
  },
  {
   "cell_type": "code",
   "execution_count": 3,
   "id": "4b2c16ee",
   "metadata": {},
   "outputs": [
    {
     "data": {
      "text/plain": [
       "539"
      ]
     },
     "execution_count": 3,
     "metadata": {},
     "output_type": "execute_result"
    }
   ],
   "source": [
    "# número de enlaces a archivos\n",
    "len(enlacesArchivos)"
   ]
  },
  {
   "cell_type": "code",
   "execution_count": 7,
   "id": "727787d2",
   "metadata": {},
   "outputs": [],
   "source": [
    "# directorio de descargas\n",
    "\n",
    "import os\n",
    "downloads_dir = 'normativaGeneral_descarga'\n",
    "os.makedirs(downloads_dir, exist_ok=True)"
   ]
  },
  {
   "cell_type": "code",
   "execution_count": 7,
   "id": "c6139850",
   "metadata": {},
   "outputs": [
    {
     "name": "stdout",
     "output_type": "stream",
     "text": [
      "anmat/circular_02-16_productos_medicos_incumbencias_de_directores_tecnicos.pdf.pdf\n",
      "anmat/circular_ms_8_16.pdf.pdf\n",
      "anmat/anmat_circular_7_2013.pdf.pdf\n",
      "anmat/anmat_circular_3_11.pdf.pdf\n",
      "anmat/anmat_circular_1_11.pdf.pdf\n",
      "anmat/Resolucion_462-10.pdf.pdf\n",
      "anmat/Resolucion_405-2010.pdf.pdf\n",
      "anmat/Resolucion_406-2010.pdf.pdf\n",
      "anmat/anmat_circular_4_10.pdf.pdf\n",
      "anmat/disposicion_anmat_1743_2009.pdf.pdf\n",
      "anmat/anmat_disposicion_615_2007.pdf.pdf\n",
      "anmat/disposicion_anmat_7398_2007.pdf.pdf\n",
      "anmat/disposicion_anmat_3110_2007.pdf.pdf\n",
      "anmat/disposicion_anmat_1955_2007.pdf.pdf\n",
      "anmat/anmat_disposicion_1336_2006.pdf.pdf\n",
      "anmat/Disposicion_2005_2060.pdf.pdf\n",
      "anmat/anmat_disposicion_998_2004.pdf.pdf\n",
      "anmat/anmat_disposicion_anmat_1507_2002.pdf.pdf\n",
      "anmat/anmat_disposicion_2438_2000.pdf.pdf\n",
      "anmat/anmat_disposicion_935_2000.pdf.pdf\n",
      "anmat/disposicion_anmat_4306_1999.pdf.pdf\n",
      "anmat/disposicion_anmat_2675_1999.pdf.pdf\n",
      "anmat/disposicion_anmat_3409_1999.pdf.pdf\n",
      "anmat/disposicion_anmat_1149_1997.pdf.pdf\n",
      "anmat/Disposicion_ANMAT_1930-1995.pdf.pdf\n",
      "anmat/disposicion_anmat_2305-1995.pdf.pdf\n",
      "anmat/disposicion_anmat_1930_1995.pdf.pdf\n",
      "anmat/Decreto_2092-1991.pdf.pdf\n",
      "anmat/anmat_resolucion_3329_1991.pdf.pdf\n",
      "anmat/anmat_disposicion_38_1990.pdf.pdf\n",
      "anmat/anmat_resolucion_56_1989.pdf.pdf\n",
      "anmat/anmat_disposicion_858_1989.pdf.pdf\n",
      "anmat/anmat_disposicion_857_1989.pdf.pdf\n",
      "anmat/anmat_disposicion_856_1989.pdf.pdf\n",
      "anmat/anmat_disposicion_855_1989.pdf.pdf\n",
      "anmat/anmat_disposicion_854_1989.pdf.pdf\n",
      "anmat/anmat_disposicion_853_1989.pdf.pdf\n",
      "anmat/anmat_resolucion_129_87.pdf.pdf\n",
      "anmat/Decreto_2126-1971.pdf.pdf\n"
     ]
    }
   ],
   "source": [
    "# descarga PDFs\n",
    "\n",
    "for enlace in enlacesArchivos:\n",
    "    if '.pdf' in enlace:\n",
    "        pdf_response = requests.get(enlace)\n",
    "        file_name = os.path.join(downloads_dir, enlace.split(\"/\")[-1]) # ya tiene extensión .pdf, no es necesario agregarla\n",
    "        # file_name = os.path.join(downloads_dir, enlace.split(\"/\")[-1] + '.pdf')\n",
    "        with open(file_name, 'wb') as file:\n",
    "            file.write(pdf_response.content)\n",
    "        print(f\"{file_name}\")"
   ]
  },
  {
   "cell_type": "code",
   "execution_count": null,
   "id": "b75bb4f6",
   "metadata": {},
   "outputs": [],
   "source": [
    "# # toma cada archivo en downloads_dir que tenga extensión .pdf.pdf y la reemplaza por .pdf\n",
    "# for file in os.listdir(downloads_dir):\n",
    "#     if file.endswith('.pdf.pdf'):\n",
    "#         os.rename(os.path.join(downloads_dir, file), os.path.join(downloads_dir, file[:-4]))\n",
    "         "
   ]
  },
  {
   "cell_type": "code",
   "execution_count": 1,
   "id": "3ea95406",
   "metadata": {},
   "outputs": [
    {
     "ename": "NameError",
     "evalue": "name 'pdf_links' is not defined",
     "output_type": "error",
     "traceback": [
      "\u001b[0;31m---------------------------------------------------------------------------\u001b[0m",
      "\u001b[0;31mNameError\u001b[0m                                 Traceback (most recent call last)",
      "Cell \u001b[0;32mIn[1], line 2\u001b[0m\n\u001b[1;32m      1\u001b[0m \u001b[38;5;66;03m#descargar texto\u001b[39;00m\n\u001b[0;32m----> 2\u001b[0m \u001b[38;5;28;01mfor\u001b[39;00m non_pdf_link \u001b[38;5;129;01min\u001b[39;00m \u001b[43mpdf_links\u001b[49m:\n\u001b[1;32m      3\u001b[0m     \u001b[38;5;28;01mif\u001b[39;00m \u001b[38;5;124m'\u001b[39m\u001b[38;5;124m.pdf\u001b[39m\u001b[38;5;124m'\u001b[39m \u001b[38;5;129;01mnot\u001b[39;00m \u001b[38;5;129;01min\u001b[39;00m non_pdf_link:\n\u001b[1;32m      4\u001b[0m         response \u001b[38;5;241m=\u001b[39m requests\u001b[38;5;241m.\u001b[39mget(non_pdf_link\u001b[38;5;241m+\u001b[39m\u001b[38;5;124m'\u001b[39m\u001b[38;5;124m/texto\u001b[39m\u001b[38;5;124m'\u001b[39m)\n",
      "\u001b[0;31mNameError\u001b[0m: name 'pdf_links' is not defined"
     ]
    }
   ],
   "source": [
    "# descarga cuanto no tiene extensión `.pdf`, esencialmente son archivos html\n",
    "\n",
    "for enlaceNoPDF in enlacesArchivos:\n",
    "    if '.pdf' not in enlaceNoPDF:\n",
    "        response = requests.get(enlaceNoPDF+'/texto') # sucesivo enlace a texto completo de la normativa\n",
    "        file_name = os.path.join(downloads_dir, enlaceNoPDF.split(\"/\")[-1] + '.html') # lo que baja es un html\n",
    "        # file_name = os.path.join(downloads_dir, enlaceNoPDF.split(\"/\")[-1] + '.txt')\n",
    "        with open(file_name, 'wb') as file:\n",
    "            file.write(response.content)\n",
    "        print(f\"{file_name}\")"
   ]
  },
  {
   "cell_type": "code",
   "execution_count": 10,
   "id": "8c1de889",
   "metadata": {},
   "outputs": [],
   "source": [
    "# # toma cada archivo en downloads_dir que tenga extensión .tex y la reemplaza por .html\n",
    "# for file in os.listdir(downloads_dir):\n",
    "#   if file.endswith('.txt'):\n",
    "#     os.rename(os.path.join(downloads_dir, file), os.path.join(downloads_dir, file[:-4] + '.html'))"
   ]
  },
  {
   "cell_type": "code",
   "execution_count": null,
   "id": "a2a5660f",
   "metadata": {},
   "outputs": [],
   "source": []
  }
 ],
 "metadata": {
  "kernelspec": {
   "display_name": "Python 3 (ipykernel)",
   "language": "python",
   "name": "python3"
  },
  "language_info": {
   "codemirror_mode": {
    "name": "ipython",
    "version": 3
   },
   "file_extension": ".py",
   "mimetype": "text/x-python",
   "name": "python",
   "nbconvert_exporter": "python",
   "pygments_lexer": "ipython3",
   "version": "3.11.2"
  }
 },
 "nbformat": 4,
 "nbformat_minor": 5
}
